{
 "cells": [
  {
   "cell_type": "code",
   "execution_count": 5,
   "id": "fb70a5c5-165e-4ed6-89b0-bbd69ee5da74",
   "metadata": {},
   "outputs": [],
   "source": [
    "# import libraries\n",
    "\n",
    "from bs4 import BeautifulSoup\n",
    "import requests\n",
    "import time\n",
    "import datetime\n",
    "import smtplib"
   ]
  },
  {
   "cell_type": "code",
   "execution_count": 165,
   "id": "186e7f32-d71a-4054-bb7e-e46ab16c1091",
   "metadata": {},
   "outputs": [
    {
     "name": "stdout",
     "output_type": "stream",
     "text": [
      "\n",
      "                    I Got Your Back Stick Figure Graphic Friendship Novelty Sarcastic Funny T Shirt\n",
      "                   \n",
      "$18.99\n",
      "                   \n",
      "\n",
      "\n",
      "\n",
      "\n",
      "\n",
      "                      $\n",
      "                     \n",
      "\n",
      "                      18\n",
      "                      \n",
      "                       .\n",
      "                      \n",
      "\n",
      "\n",
      "                      99\n"
     ]
    }
   ],
   "source": [
    "# connect to website\n",
    "\n",
    "URL = 'https://www.amazon.com/Stick-Figure-Friendship-Sarcastic-Funny/dp/B076FTC6FQ/ref=sxin_16_pa_sp_search_thematic_sspa?content-id=amzn1.sym.a9932944-95cf-4953-992f-6a2334e77f6c%3Aamzn1.sym.a9932944-95cf-4953-992f-6a2334e77f6c&crid=1UPG2L027WCBF&cv_ct_cx=data+analysis+shirt&dib=eyJ2IjoiMSJ9.mT-tew0Wz4x9yOGHMxs0uDz_27UrKPWUJNjJJWDhPt20bBSMfidlNUJry0i7wIfQz57v-QkbC6XREFLu54IQNA.ub8JzEXj0UwR-DKG4pV3rXMpkeoDt5SqQI7wrzuJPZc&dib_tag=se&keywords=data+analysis+shirt&pd_rd_i=B076FTC6FQ&pd_rd_r=408119ed-0c9c-4698-8ad7-4769d784827c&pd_rd_w=nSGbE&pd_rd_wg=IX0pQ&pf_rd_p=a9932944-95cf-4953-992f-6a2334e77f6c&pf_rd_r=CX001PD7Y4D2YGEVF2G7&qid=1720936796&sbo=RZvfv%2F%2FHxDF%2BO5021pAnSA%3D%3D&sprefix=data+analyst+shirt%2Caps%2C600&sr=1-3-183302c6-8dec-4386-8e58-6031e7be5ad8-spons&sp_csd=d2lkZ2V0TmFtZT1zcF9zZWFyY2hfdGhlbWF0aWM&psc=1'\n",
    "\n",
    "# headers from 'https://httpbin.org/get'\n",
    "headers = {\"User-Agent\": \"Mozilla/5.0 (Windows NT 10.0; Win64; x64) AppleWebKit/537.36 (KHTML, like Gecko) Chrome/126.0.0.0 Safari/537.36\"}\n",
    "\n",
    "page = requests.get(URL, headers = headers)\n",
    "\n",
    "soup1 = BeautifulSoup(page.content, 'html.parser')\n",
    "# print(soup1)\n",
    "soup2 = BeautifulSoup(soup1.prettify(), 'html.parser')\n",
    "# print(soup2)\n",
    "\n",
    "title = soup2.find(id = 'productTitle').get_text()\n",
    "print(title)\n",
    "\n",
    "price = soup2.find(id = 'corePriceDisplay_desktop_feature_div').get_text().strip()\n",
    "print(price)\n"
   ]
  },
  {
   "cell_type": "code",
   "execution_count": 167,
   "id": "7ddd71b7-43e7-4c28-9441-64f90a05b12c",
   "metadata": {},
   "outputs": [
    {
     "name": "stdout",
     "output_type": "stream",
     "text": [
      "I Got Your Back Stick Figure Graphic Friendship Novelty Sarcastic Funny T Shirt\n",
      "$18.99\n"
     ]
    }
   ],
   "source": [
    "# clean the dirty data\n",
    "price = price.strip()[0:6]\n",
    "title = title.strip()\n",
    "\n",
    "print(title)\n",
    "print(price)"
   ]
  },
  {
   "cell_type": "code",
   "execution_count": 173,
   "id": "aec9aed5-d99c-4964-ad83-350238ee036f",
   "metadata": {},
   "outputs": [
    {
     "data": {
      "text/plain": [
       "str"
      ]
     },
     "execution_count": 173,
     "metadata": {},
     "output_type": "execute_result"
    }
   ],
   "source": [
    "# the price is string now, have to bear in mind that data type is important\n",
    "\n",
    "type(price)"
   ]
  },
  {
   "cell_type": "code",
   "execution_count": 179,
   "id": "7d93cccb-6e9c-43b5-bc0f-67ad9fb01b31",
   "metadata": {},
   "outputs": [
    {
     "name": "stdout",
     "output_type": "stream",
     "text": [
      "2024-07-14\n"
     ]
    }
   ],
   "source": [
    "# date stamp\n",
    "\n",
    "import datetime\n",
    "\n",
    "today = datetime.date.today()\n",
    "print(today)"
   ]
  },
  {
   "cell_type": "code",
   "execution_count": 181,
   "id": "9f104510-e722-4561-be23-8e5fdeaa4141",
   "metadata": {},
   "outputs": [],
   "source": [
    "import csv\n",
    "\n",
    "header = ['Product_Title', 'Price', 'Date']\n",
    "data = [title, price, today]\n",
    "\n",
    "#type(data) -> list\n",
    "\n",
    "# w = write\n",
    "# newline = when we insert the data there is no space between each csv\n",
    "with open('AmazonWebScraperDataset.csv', 'w', newline = '', encoding = 'UTF8') as f:\n",
    "    writer = csv.writer(f)\n",
    "    writer.writerow(header)\n",
    "    writer.writerow(data)\n"
   ]
  },
  {
   "cell_type": "code",
   "execution_count": 177,
   "id": "ddf64533-49a0-4bb5-8a7d-f617533c498b",
   "metadata": {},
   "outputs": [],
   "source": [
    "# the dataset will be downloaded in the file explorer"
   ]
  },
  {
   "cell_type": "code",
   "execution_count": 185,
   "id": "112ebcd2-38a9-401b-9db9-0ac406f5caae",
   "metadata": {},
   "outputs": [
    {
     "name": "stdout",
     "output_type": "stream",
     "text": [
      "                                       Product_Title   Price        Date\n",
      "0  I Got Your Back Stick Figure Graphic Friendshi...  $18.99  2024-07-14\n"
     ]
    }
   ],
   "source": [
    "# to see the dataset here\n",
    "\n",
    "import pandas as pd\n",
    "\n",
    "df = pd.read_csv(r\"C:\\Users\\user\\AmazonWebScraperDataset.csv\")\n",
    "print(df)"
   ]
  },
  {
   "cell_type": "code",
   "execution_count": 196,
   "id": "3acade86-d32d-4186-b9a7-4c718786eeb5",
   "metadata": {},
   "outputs": [],
   "source": [
    "# now we are appending data to the csv\n",
    "\n",
    "with open('AmazonWebScraperDataset.csv', 'a+', newline = '', encoding = 'UTF8') as f:\n",
    "    writer = csv.writer(f)\n",
    "    writer.writerow(data)"
   ]
  },
  {
   "cell_type": "code",
   "execution_count": 200,
   "id": "b034d4ff-271c-4d56-bd3e-6ca1542f9fcc",
   "metadata": {},
   "outputs": [],
   "source": [
    "# automactic check price and update, on a timer\n",
    "\n",
    "def check_price():\n",
    "    URL = 'https://www.amazon.com/Stick-Figure-Friendship-Sarcastic-Funny/dp/B076FTC6FQ/ref=sxin_16_pa_sp_search_thematic_sspa?content-id=amzn1.sym.a9932944-95cf-4953-992f-6a2334e77f6c%3Aamzn1.sym.a9932944-95cf-4953-992f-6a2334e77f6c&crid=1UPG2L027WCBF&cv_ct_cx=data+analysis+shirt&dib=eyJ2IjoiMSJ9.mT-tew0Wz4x9yOGHMxs0uDz_27UrKPWUJNjJJWDhPt20bBSMfidlNUJry0i7wIfQz57v-QkbC6XREFLu54IQNA.ub8JzEXj0UwR-DKG4pV3rXMpkeoDt5SqQI7wrzuJPZc&dib_tag=se&keywords=data+analysis+shirt&pd_rd_i=B076FTC6FQ&pd_rd_r=408119ed-0c9c-4698-8ad7-4769d784827c&pd_rd_w=nSGbE&pd_rd_wg=IX0pQ&pf_rd_p=a9932944-95cf-4953-992f-6a2334e77f6c&pf_rd_r=CX001PD7Y4D2YGEVF2G7&qid=1720936796&sbo=RZvfv%2F%2FHxDF%2BO5021pAnSA%3D%3D&sprefix=data+analyst+shirt%2Caps%2C600&sr=1-3-183302c6-8dec-4386-8e58-6031e7be5ad8-spons&sp_csd=d2lkZ2V0TmFtZT1zcF9zZWFyY2hfdGhlbWF0aWM&psc=1'\n",
    "\n",
    "    headers = {\"User-Agent\": \"Mozilla/5.0 (Windows NT 10.0; Win64; x64) AppleWebKit/537.36 (KHTML, like Gecko) Chrome/126.0.0.0 Safari/537.36\"}\n",
    "\n",
    "    page = requests.get(URL, headers = headers)\n",
    "    \n",
    "    soup1 = BeautifulSoup(page.content, 'html.parser')\n",
    "\n",
    "    soup2 = BeautifulSoup(soup1.prettify(), 'html.parser')\n",
    "\n",
    "    title = soup2.find(id = 'productTitle').get_text()\n",
    "\n",
    "    price = soup2.find(id = 'corePriceDisplay_desktop_feature_div').get_text().strip()\n",
    "\n",
    "    price = price.strip()[0:6]\n",
    "    title = title.strip()\n",
    "\n",
    "    import datetime\n",
    "\n",
    "    today = datetime.date.today()\n",
    "\n",
    "    import csv\n",
    "\n",
    "    header = ['Product_Title', 'Price', 'Date']\n",
    "    data = [title, price, today]\n",
    "\n",
    "    with open('AmazonWebScraperDataset.csv', 'a+', newline = '', encoding = 'UTF8') as f:\n",
    "        writer = csv.writer(f)\n",
    "        writer.writerow(data)"
   ]
  },
  {
   "cell_type": "code",
   "execution_count": null,
   "id": "4f727691-afa9-483f-929e-dfce984b1fb0",
   "metadata": {},
   "outputs": [],
   "source": [
    "# to send email when the price is lower than $15\n",
    "\n",
    "if(price<15):\n",
    "        send_mail()"
   ]
  },
  {
   "cell_type": "code",
   "execution_count": null,
   "id": "2044369a-6fb4-43b1-adb4-88f9068032ec",
   "metadata": {},
   "outputs": [],
   "source": [
    "# time.sleep('sec') -> 86400 sec = 24 hr\n",
    "\n",
    "while(True):\n",
    "    check_price()\n",
    "    time.sleep(86400)"
   ]
  },
  {
   "cell_type": "code",
   "execution_count": null,
   "id": "8da9e2de-5207-41b9-a559-7e5a6d1e36eb",
   "metadata": {},
   "outputs": [],
   "source": [
    "# define send email \n",
    "\n",
    "def send_mail():\n",
    "    server = smtplib.SMTP_SSL('smtp.gmail.com', 465)\n",
    "    server.ehlo()\n",
    "    #server.starttls()\n",
    "    server.ehlo()\n",
    "    server.login('tsenyun2000@gmail.com','inputthepassword')\n",
    "\n",
    "    subject = 'The shirt you want is below $15! Now is your chance to buy!'\n",
    "    body = \"Tsen, This is the moment we have been waiting for. Now is your chance to pick up the shirt of your dream. Don't mess it up!\"\n",
    "\n",
    "    msg = f\"Subject: {subject}\\n\\n{body}\"\n",
    "\n",
    "    server.sendmail(\n",
    "        'tsenyun2000@gmail.com',\n",
    "        msg\n",
    "        \n",
    "    )"
   ]
  },
  {
   "cell_type": "code",
   "execution_count": null,
   "id": "90db099b-ca41-4350-9c67-91f4387a6038",
   "metadata": {},
   "outputs": [],
   "source": []
  }
 ],
 "metadata": {
  "kernelspec": {
   "display_name": "Python 3 (ipykernel)",
   "language": "python",
   "name": "python3"
  },
  "language_info": {
   "codemirror_mode": {
    "name": "ipython",
    "version": 3
   },
   "file_extension": ".py",
   "mimetype": "text/x-python",
   "name": "python",
   "nbconvert_exporter": "python",
   "pygments_lexer": "ipython3",
   "version": "3.11.7"
  }
 },
 "nbformat": 4,
 "nbformat_minor": 5
}
