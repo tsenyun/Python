{
 "cells": [
  {
   "cell_type": "code",
   "execution_count": 207,
   "id": "3fc104e1-2439-4f7b-a78d-f3174060bbb4",
   "metadata": {},
   "outputs": [],
   "source": [
    "import os, shutil"
   ]
  },
  {
   "cell_type": "code",
   "execution_count": 209,
   "id": "09a1b160-7cdf-4649-9dfb-5cd738bd5214",
   "metadata": {},
   "outputs": [],
   "source": [
    "# connect the file path\n",
    "# add back slash at the end so that in will in the folder\n",
    "\n",
    "path = r\"C:/Users/user/Dropbox/PC/Downloads/University Projects//\""
   ]
  },
  {
   "cell_type": "code",
   "execution_count": 211,
   "id": "ed0f1a2e-9c10-4676-b45d-8f5f59dea159",
   "metadata": {},
   "outputs": [],
   "source": [
    "file_name = os.listdir(path)"
   ]
  },
  {
   "cell_type": "code",
   "execution_count": null,
   "id": "0c6acaf0-614d-4f89-9078-2bbf5658454d",
   "metadata": {},
   "outputs": [],
   "source": []
  },
  {
   "cell_type": "code",
   "execution_count": 152,
   "id": "fd402222-9720-45b0-b0d4-9cb11af0b276",
   "metadata": {},
   "outputs": [],
   "source": []
  },
  {
   "cell_type": "code",
   "execution_count": 177,
   "id": "a0b59bc1-604e-4cd7-b3ea-24aa77b67536",
   "metadata": {},
   "outputs": [
    {
     "name": "stdout",
     "output_type": "stream",
     "text": [
      "Files in 'C:\\Users\\user\\Dropbox\\PC\\Downloads\\University Projects': ['docx files', 'hi', 'pdf files', 'pptx files', 'xlsx files']\n"
     ]
    }
   ],
   "source": [
    "### If nothing shows up, check:\n",
    "\n",
    "import os\n",
    "import shutil\n",
    "\n",
    "# Define the path\n",
    "path = r\"C:\\Users\\user\\Dropbox\\PC\\Downloads\\University Projects\"\n",
    "\n",
    "# Check if the path exists\n",
    "if not os.path.exists(path):\n",
    "    print(f\"Error: The path {path} does not exist.\")\n",
    "else:\n",
    "    try:\n",
    "        # List the files in the directory\n",
    "        files = os.listdir(path)\n",
    "        print(f\"Files in '{path}': {files}\")\n",
    "    except Exception as e:\n",
    "        print(f\"An error occurred: {e}\")"
   ]
  },
  {
   "cell_type": "code",
   "execution_count": null,
   "id": "12cd6130-0377-418f-aa14-35ff2d4ffa9c",
   "metadata": {},
   "outputs": [],
   "source": []
  },
  {
   "cell_type": "code",
   "execution_count": 164,
   "id": "981ef994-4aee-4743-afeb-440cc36ac251",
   "metadata": {},
   "outputs": [],
   "source": []
  },
  {
   "cell_type": "code",
   "execution_count": 213,
   "id": "4853c690-59b3-4750-836d-2316169ce073",
   "metadata": {},
   "outputs": [
    {
     "data": {
      "text/plain": [
       "['109新生.xlsx',\n",
       " '作業acting.docx',\n",
       " '商事法報告 華爾街之狼.docx',\n",
       " '商事法報告 華爾街之狼.pdf',\n",
       " '商事法期末報告.docx',\n",
       " '商事法期末報告.pdf',\n",
       " '房.xlsx',\n",
       " '投資學期末.pdf',\n",
       " '期末報告.pptx',\n",
       " '海上鋼琴師.docx',\n",
       " '海上鋼琴師.pdf',\n",
       " '總經期末.pdf',\n",
       " '電影概論.docx',\n",
       " '電影概論.pdf',\n",
       " '電影概論3.docx',\n",
       " '電影概論3.pdf',\n",
       " '電影概論作業2.docx',\n",
       " '電影概論分組.pdf']"
      ]
     },
     "execution_count": 213,
     "metadata": {},
     "output_type": "execute_result"
    }
   ],
   "source": [
    "# check the file type\n",
    "\n",
    "os.listdir(path)"
   ]
  },
  {
   "cell_type": "code",
   "execution_count": 215,
   "id": "f022eafd-94b2-4941-b8cc-b99acaf09eee",
   "metadata": {},
   "outputs": [
    {
     "data": {
      "text/plain": [
       "False"
      ]
     },
     "execution_count": 215,
     "metadata": {},
     "output_type": "execute_result"
    }
   ],
   "source": [
    "# check if the path exists (if the folder is already there)\n",
    "\n",
    "os.path.exists(path + 'pdf files')"
   ]
  },
  {
   "cell_type": "code",
   "execution_count": 217,
   "id": "fbcf14ea-d0f7-4e4d-814c-200bba000c06",
   "metadata": {},
   "outputs": [
    {
     "name": "stdout",
     "output_type": "stream",
     "text": [
      "Creating folder: C:/Users/user/Dropbox/PC/Downloads/University Projects//pdf files\n",
      "Creating folder: C:/Users/user/Dropbox/PC/Downloads/University Projects//docx files\n",
      "Creating folder: C:/Users/user/Dropbox/PC/Downloads/University Projects//xlsx files\n",
      "Creating folder: C:/Users/user/Dropbox/PC/Downloads/University Projects//pptx files\n"
     ]
    }
   ],
   "source": [
    "#check if the folders already exist, if not, creat it\n",
    "\n",
    "folder_names = ['pdf files', 'docx files', 'xlsx files', 'pptx files']\n",
    "\n",
    "for folder in folder_names:\n",
    "    folder_path = os.path.join(path, folder)\n",
    "    if not os.path.exists(folder_path):\n",
    "        print(f\"Creating folder: {folder_path}\")\n",
    "        os.makedirs(folder_path)"
   ]
  },
  {
   "cell_type": "code",
   "execution_count": 219,
   "id": "a3237fc7-7e03-474c-9949-4d574dcb7898",
   "metadata": {},
   "outputs": [],
   "source": [
    "# move pdf file into the pdf files folder\n",
    "\n",
    "for file in file_name:\n",
    "    if \".pdf\" in file and not os.path.exists(folder_path + \"pdf files/\" + file):\n",
    "        shutil.move(path + file, path + \"pdf files/\" + file)"
   ]
  },
  {
   "cell_type": "code",
   "execution_count": 221,
   "id": "b6ae4230-de48-4406-a614-249a900e17da",
   "metadata": {},
   "outputs": [],
   "source": [
    "# move docx, xlsx, pptx to the folders\n",
    "\n",
    "for file in file_name:\n",
    "     if \".docx\" in file and not os.path.exists(folder_path + \"docx files/\" + file):\n",
    "        shutil.move(path + file, path + \"docx files/\" + file)\n",
    "     elif \".xlsx\" in file and not os.path.exists(folder_path + \"xlsx files/\" + file):\n",
    "        shutil.move(path + file, path + \"xlsx files/\" + file)\n",
    "     elif \".pptx\" in file and not os.path.exists(folder_path + \"pptx files/\" + file):\n",
    "        shutil.move(path + file, path + \"pptx files/\" + file)\n"
   ]
  },
  {
   "cell_type": "code",
   "execution_count": null,
   "id": "13851d55-7421-4941-bee3-602d9f8f59fd",
   "metadata": {},
   "outputs": [],
   "source": []
  },
  {
   "cell_type": "code",
   "execution_count": null,
   "id": "071a3394-1956-4eeb-8b80-da67c2b74703",
   "metadata": {},
   "outputs": [],
   "source": []
  },
  {
   "cell_type": "code",
   "execution_count": 197,
   "id": "b3cbd873-15a5-4baf-bb14-85cb75a72b9a",
   "metadata": {},
   "outputs": [],
   "source": [
    "### Final step 1\n",
    "import os, shutil"
   ]
  },
  {
   "cell_type": "code",
   "execution_count": 199,
   "id": "84edfd2f-ccfb-49f2-a1e1-f436e7d5c505",
   "metadata": {},
   "outputs": [],
   "source": [
    "### Final step 2 \n",
    "path = r\"C:/Users/user/Dropbox/PC/Downloads/University Projects//\""
   ]
  },
  {
   "cell_type": "code",
   "execution_count": 201,
   "id": "bdf26c6c-a6b9-42fa-9f45-ad7e8ef9fa57",
   "metadata": {},
   "outputs": [],
   "source": [
    "### Final step 3\n",
    "file_name = os.listdir(path)"
   ]
  },
  {
   "cell_type": "code",
   "execution_count": 203,
   "id": "6836769d-ff85-4836-ac81-174a8e6fcb46",
   "metadata": {},
   "outputs": [],
   "source": [
    "### Final step 4\n",
    "\n",
    "folder_names = ['pdf files', 'docx files', 'xlsx files', 'pptx files']\n",
    "\n",
    "for folder in folder_names:\n",
    "    folder_path = os.path.join(path, folder)\n",
    "    if not os.path.exists(folder_path):\n",
    "        #print(f\"Creating folder: {folder_path}\")\n",
    "        os.makedirs(folder_path)\n",
    "\n",
    "for file in file_name:\n",
    "    if \".pdf\" in file and not os.path.exists(folder_path + \"pdf files/\" + file):\n",
    "        shutil.move(path + file, path + \"pdf files/\" + file)\n",
    "    elif \".docx\" in file and not os.path.exists(folder_path + \"docx files/\" + file):\n",
    "        shutil.move(path + file, path + \"docx files/\" + file)\n",
    "    elif \".xlsx\" in file and not os.path.exists(folder_path + \"xlsx files/\" + file):\n",
    "        shutil.move(path + file, path + \"xlsx files/\" + file)\n",
    "    elif \".pptx\" in file and not os.path.exists(folder_path + \"pptx files/\" + file):\n",
    "        shutil.move(path + file, path + \"pptx files/\" + file)\n"
   ]
  },
  {
   "cell_type": "code",
   "execution_count": null,
   "id": "71e5d160-b1c6-4224-b3e3-748249fd3731",
   "metadata": {},
   "outputs": [],
   "source": []
  },
  {
   "cell_type": "code",
   "execution_count": null,
   "id": "314d6d21-2399-4409-8471-238fc095b816",
   "metadata": {},
   "outputs": [],
   "source": []
  }
 ],
 "metadata": {
  "kernelspec": {
   "display_name": "Python 3 (ipykernel)",
   "language": "python",
   "name": "python3"
  },
  "language_info": {
   "codemirror_mode": {
    "name": "ipython",
    "version": 3
   },
   "file_extension": ".py",
   "mimetype": "text/x-python",
   "name": "python",
   "nbconvert_exporter": "python",
   "pygments_lexer": "ipython3",
   "version": "3.11.7"
  }
 },
 "nbformat": 4,
 "nbformat_minor": 5
}
