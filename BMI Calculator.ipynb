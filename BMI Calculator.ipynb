{
 "cells": [
  {
   "cell_type": "code",
   "execution_count": 1,
   "id": "128cdaa3-3d40-4e0a-aab6-aff4202ab2ac",
   "metadata": {},
   "outputs": [
    {
     "name": "stdin",
     "output_type": "stream",
     "text": [
      "Enter your name Yun \n",
      "Enter your weight in kg:  42\n",
      "Enter your height in m:  1.58\n"
     ]
    },
    {
     "name": "stdout",
     "output_type": "stream",
     "text": [
      "16.82422688671687\n",
      "Yun , you are underweight. Eat moreeee!\n"
     ]
    }
   ],
   "source": [
    "name = input(\"Enter your name\")\n",
    "\n",
    "weight = int(input(\"Enter your weight in kg: \"))\n",
    "\n",
    "height = float(input(\"Enter your height in m: \"))\n",
    "\n",
    "BMI = (weight) / (height * height)\n",
    "\n",
    "print(BMI)\n",
    "\n",
    "if BMI > 0:\n",
    "    if(BMI<18.5):\n",
    "        print(name + \", you are underweight. Eat moreeee!\")\n",
    "    elif(BMI<=25):\n",
    "        print(name + \", you are normal weight. Excellent! Keep going!\")\n",
    "    elif(BMI<=30):\n",
    "        print(name + \", you are overweight. You need to excercise more.\")\n",
    "    elif(BMI<=35):\n",
    "        print(name + \", you are obese. Take care of your health and talk to the doctor please.\")\n",
    "    elif(BMI<=40):\n",
    "        print(name + \", you are severely obese. Please go see the doctor.\")\n",
    "    else:\n",
    "        print(name + \", you are extremely obese. OMG!! Get up and let's go see doctor!!\")\n",
    "else:\n",
    "    print(\"Enter valid input\")"
   ]
  },
  {
   "cell_type": "code",
   "execution_count": null,
   "id": "85e6a259-09dd-4f1f-a4a6-02dca6680342",
   "metadata": {},
   "outputs": [],
   "source": []
  },
  {
   "cell_type": "code",
   "execution_count": null,
   "id": "ac67aad7-6185-4246-9cb5-6481c3d9a10a",
   "metadata": {},
   "outputs": [],
   "source": []
  },
  {
   "cell_type": "code",
   "execution_count": 1,
   "id": "6cdbe7a9-ae6c-480b-b282-b306a2598256",
   "metadata": {},
   "outputs": [],
   "source": []
  },
  {
   "cell_type": "code",
   "execution_count": null,
   "id": "8152fd26-7897-4cf8-92b2-c1e4a8ddc782",
   "metadata": {},
   "outputs": [],
   "source": []
  },
  {
   "cell_type": "code",
   "execution_count": null,
   "id": "8a63517a-6926-4491-ad07-80ee73592486",
   "metadata": {},
   "outputs": [],
   "source": []
  },
  {
   "cell_type": "code",
   "execution_count": null,
   "id": "daaff238-3500-472f-a667-7eb6d1db50a0",
   "metadata": {},
   "outputs": [],
   "source": []
  },
  {
   "cell_type": "code",
   "execution_count": null,
   "id": "6649a842-7033-4925-a012-eed072905fea",
   "metadata": {},
   "outputs": [],
   "source": []
  },
  {
   "cell_type": "code",
   "execution_count": null,
   "id": "f5775355-8d93-493a-9c07-247ef3bed849",
   "metadata": {},
   "outputs": [],
   "source": []
  },
  {
   "cell_type": "code",
   "execution_count": null,
   "id": "06daea6d-3ea0-4c4b-ad55-3226c74d3ad5",
   "metadata": {},
   "outputs": [],
   "source": []
  },
  {
   "cell_type": "code",
   "execution_count": null,
   "id": "8f91ea89-8242-497f-aa88-ee5f4caf9590",
   "metadata": {},
   "outputs": [],
   "source": []
  }
 ],
 "metadata": {
  "kernelspec": {
   "display_name": "Python 3 (ipykernel)",
   "language": "python",
   "name": "python3"
  },
  "language_info": {
   "codemirror_mode": {
    "name": "ipython",
    "version": 3
   },
   "file_extension": ".py",
   "mimetype": "text/x-python",
   "name": "python",
   "nbconvert_exporter": "python",
   "pygments_lexer": "ipython3",
   "version": "3.11.7"
  }
 },
 "nbformat": 4,
 "nbformat_minor": 5
}
