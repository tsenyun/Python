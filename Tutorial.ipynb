{
 "cells": [
  {
   "cell_type": "code",
   "execution_count": 448,
   "id": "9bc4b063-5e20-4073-850a-6811a5cfa62a",
   "metadata": {},
   "outputs": [
    {
     "name": "stdout",
     "output_type": "stream",
     "text": [
      "hello world!\n"
     ]
    }
   ],
   "source": [
    "print (\"hello world!\")"
   ]
  },
  {
   "cell_type": "markdown",
   "id": "d4b9fd92-90da-4eb0-a139-bbc9191273e0",
   "metadata": {
    "jp-MarkdownHeadingCollapsed": true
   },
   "source": [
    "# Variables in Python"
   ]
  },
  {
   "cell_type": "markdown",
   "id": "2220526c-a4a2-4f66-8c18-3c0f3e4a687f",
   "metadata": {
    "jp-MarkdownHeadingCollapsed": true
   },
   "source": [
    "### Automatically know the data type"
   ]
  },
  {
   "cell_type": "code",
   "execution_count": 16,
   "id": "5b136072-2cf0-43e9-87e1-61771161e84b",
   "metadata": {},
   "outputs": [
    {
     "name": "stdout",
     "output_type": "stream",
     "text": [
      "22\n"
     ]
    }
   ],
   "source": [
    "x = 22\n",
    "\n",
    "print(x)"
   ]
  },
  {
   "cell_type": "code",
   "execution_count": 12,
   "id": "5cc1d647-c350-42e2-bfcb-8c56c7797473",
   "metadata": {},
   "outputs": [
    {
     "data": {
      "text/plain": [
       "int"
      ]
     },
     "execution_count": 12,
     "metadata": {},
     "output_type": "execute_result"
    }
   ],
   "source": [
    "type(x)"
   ]
  },
  {
   "cell_type": "code",
   "execution_count": 18,
   "id": "4b7c8ed8-5506-4759-9703-f4fddd5a33e8",
   "metadata": {},
   "outputs": [
    {
     "name": "stdout",
     "output_type": "stream",
     "text": [
      "Pistachio Gelato\n"
     ]
    }
   ],
   "source": [
    "y = \"Pistachio Gelato\"\n",
    "\n",
    "print(y)"
   ]
  },
  {
   "cell_type": "code",
   "execution_count": 20,
   "id": "aa07f61c-f92c-4eb7-9e1f-212a302e4edb",
   "metadata": {},
   "outputs": [
    {
     "data": {
      "text/plain": [
       "str"
      ]
     },
     "execution_count": 20,
     "metadata": {},
     "output_type": "execute_result"
    }
   ],
   "source": [
    "type(y)"
   ]
  },
  {
   "cell_type": "markdown",
   "id": "a6df5080-6091-49ee-afd4-e079e26d67bd",
   "metadata": {
    "jp-MarkdownHeadingCollapsed": true
   },
   "source": [
    "### Variables would overwrite the previous one"
   ]
  },
  {
   "cell_type": "code",
   "execution_count": 22,
   "id": "8a4123c5-87a2-4d55-95fa-4e1ee6c42193",
   "metadata": {},
   "outputs": [
    {
     "name": "stdout",
     "output_type": "stream",
     "text": [
      "Pistachio Gelato\n"
     ]
    }
   ],
   "source": [
    "print(y)"
   ]
  },
  {
   "cell_type": "code",
   "execution_count": 24,
   "id": "dd0120bc-d915-4eff-9807-15519c9f034e",
   "metadata": {},
   "outputs": [
    {
     "name": "stdout",
     "output_type": "stream",
     "text": [
      "Chocolate\n"
     ]
    }
   ],
   "source": [
    "y = \"Chocolate\"\n",
    "\n",
    "print(y)"
   ]
  },
  {
   "cell_type": "code",
   "execution_count": 26,
   "id": "688732d0-0df2-4223-9b68-d6b42ffe2edc",
   "metadata": {},
   "outputs": [
    {
     "name": "stdout",
     "output_type": "stream",
     "text": [
      "Pistachio Gelato\n"
     ]
    }
   ],
   "source": [
    "y = \"Chocolate\"\n",
    "\n",
    "y = \"Pistachio Gelato\"\n",
    "\n",
    "print(y)"
   ]
  },
  {
   "cell_type": "markdown",
   "id": "a21c3d49-98a7-4b2e-86c7-d6ed754d4006",
   "metadata": {
    "jp-MarkdownHeadingCollapsed": true
   },
   "source": [
    "### Case Sensitive -- Capital Matters"
   ]
  },
  {
   "cell_type": "code",
   "execution_count": 35,
   "id": "2c876b0a-4ad8-4411-9807-e0dda5e14380",
   "metadata": {},
   "outputs": [
    {
     "name": "stdout",
     "output_type": "stream",
     "text": [
      "Chocolate\n"
     ]
    }
   ],
   "source": [
    "y = \"Chocolate\"\n",
    "\n",
    "Y = \"Pistachio Gelato\"\n",
    "\n",
    "print(y)"
   ]
  },
  {
   "cell_type": "code",
   "execution_count": null,
   "id": "4d246b55-4fdb-44f8-9bb7-f850fc16a3ab",
   "metadata": {},
   "outputs": [],
   "source": []
  },
  {
   "cell_type": "markdown",
   "id": "1b9a5c05-7162-4ea1-afd0-b2973f8c319e",
   "metadata": {
    "jp-MarkdownHeadingCollapsed": true
   },
   "source": [
    "### Multipal Values to Multiple Variables"
   ]
  },
  {
   "cell_type": "code",
   "execution_count": 46,
   "id": "e2c5980c-6e37-481c-a9dc-7ba2fb8121ac",
   "metadata": {},
   "outputs": [
    {
     "name": "stdout",
     "output_type": "stream",
     "text": [
      "Coconut\n",
      "Dark Chocolate\n",
      "Milk\n"
     ]
    }
   ],
   "source": [
    "x, y, z = \"Coconut\", \"Dark Chocolate\", \"Milk\"\n",
    "\n",
    "print(x)\n",
    "print(y)\n",
    "print(z)"
   ]
  },
  {
   "cell_type": "code",
   "execution_count": 48,
   "id": "8e878aa0-2284-4f0e-91d9-0387fbdce591",
   "metadata": {},
   "outputs": [
    {
     "name": "stdout",
     "output_type": "stream",
     "text": [
      "Honey\n",
      "Honey\n",
      "Honey\n"
     ]
    }
   ],
   "source": [
    "x = y = z = \"Honey\"\n",
    "\n",
    "print(x)\n",
    "print(y)\n",
    "print(z)"
   ]
  },
  {
   "cell_type": "code",
   "execution_count": 58,
   "id": "72ad3736-5e47-4639-aa91-435af5d1469a",
   "metadata": {},
   "outputs": [
    {
     "name": "stdout",
     "output_type": "stream",
     "text": [
      "Coconut\n",
      "Dark Chocolate\n",
      "Milk\n"
     ]
    }
   ],
   "source": [
    "ice_cream = [\"Coconut\", \"Dark Chocolate\", \"Milk\"]\n",
    "\n",
    "x,y,z = Ice_Cream\n",
    "\n",
    "print(x)\n",
    "print(y)\n",
    "print(z)"
   ]
  },
  {
   "cell_type": "code",
   "execution_count": null,
   "id": "7cc54d41-d831-471a-b03f-a510a4e20460",
   "metadata": {},
   "outputs": [],
   "source": []
  },
  {
   "cell_type": "code",
   "execution_count": null,
   "id": "3ec238d7-e812-498a-be17-64715615c431",
   "metadata": {},
   "outputs": [],
   "source": [
    "# Camel Case\n",
    "\n",
    "#Test Variable Case\n",
    "\n",
    "tsetVariableCase = \"Vanilla Swirl\""
   ]
  },
  {
   "cell_type": "code",
   "execution_count": null,
   "id": "4f54b075-02fe-4744-90a5-e489f39ae701",
   "metadata": {},
   "outputs": [],
   "source": [
    "# Pascal Case\n",
    "\n",
    "#Test Variable Case\n",
    "\n",
    "TsetVariableCase = \"Vanilla Swirl\""
   ]
  },
  {
   "cell_type": "code",
   "execution_count": 63,
   "id": "42fd68a9-4cc3-439d-8024-f11c052f7b01",
   "metadata": {},
   "outputs": [],
   "source": [
    "# Snake Case\n",
    "\n",
    "#Test Variable Case\n",
    "\n",
    "tset_variable_case = \"Vanilla Swirl\"\n",
    "\n",
    "# Easier to read"
   ]
  },
  {
   "cell_type": "code",
   "execution_count": null,
   "id": "69d7205a-bf69-4aeb-9fd4-cd67be532d71",
   "metadata": {},
   "outputs": [],
   "source": []
  },
  {
   "cell_type": "code",
   "execution_count": 71,
   "id": "1bbe8daa-e0d4-4ba7-a80a-c9179b9bc308",
   "metadata": {},
   "outputs": [],
   "source": [
    "#Can use:\n",
    "\n",
    "tsetvar = \"Vanilla Swirl\"\n",
    "tset_var = \"Vanilla Swirl\"\n",
    "_tset_var = \"Vanilla Swirl\"\n",
    "tsetVar = \"Vanilla Swirl\"\n",
    "TsetVar = \"Vanilla Swirl\"\n",
    "tset_var2 = \"Vanilla Swirl\""
   ]
  },
  {
   "cell_type": "code",
   "execution_count": 69,
   "id": "1cd1b157-8f4e-4bd7-a0ee-7b57bd40b245",
   "metadata": {},
   "outputs": [
    {
     "ename": "SyntaxError",
     "evalue": "invalid decimal literal (3399739314.py, line 2)",
     "output_type": "error",
     "traceback": [
      "\u001b[1;36m  Cell \u001b[1;32mIn[69], line 2\u001b[1;36m\u001b[0m\n\u001b[1;33m    2tset_var = \"Vanilla Swirl\"\u001b[0m\n\u001b[1;37m    ^\u001b[0m\n\u001b[1;31mSyntaxError\u001b[0m\u001b[1;31m:\u001b[0m invalid decimal literal\n"
     ]
    }
   ],
   "source": [
    "#does not work:\n",
    "\n",
    "2tset_var = \"Vanilla Swirl\"\n",
    "tset-var = \"Vanilla Swirl\"\n",
    "tset var = \"Vanilla Swirl\"\n",
    "tset,var = \"Vanilla Swirl\""
   ]
  },
  {
   "cell_type": "code",
   "execution_count": null,
   "id": "d7ac9d5d-911e-4700-ada0-90bf0d09749a",
   "metadata": {},
   "outputs": [],
   "source": []
  },
  {
   "cell_type": "code",
   "execution_count": 77,
   "id": "38b6a7a7-9b00-40d9-9191-1df0629aeb07",
   "metadata": {},
   "outputs": [
    {
     "name": "stdout",
     "output_type": "stream",
     "text": [
      "Ice cream is my favorite.\n"
     ]
    }
   ],
   "source": [
    "#use + to combine (string with sting, not int)\n",
    "\n",
    "x = \"Ice cream is my favorite\" + \".\"\n",
    "\n",
    "print(x)"
   ]
  },
  {
   "cell_type": "code",
   "execution_count": 79,
   "id": "5a632fe2-2c32-4670-89f6-687eac96df83",
   "metadata": {},
   "outputs": [
    {
     "ename": "TypeError",
     "evalue": "can only concatenate str (not \"int\") to str",
     "output_type": "error",
     "traceback": [
      "\u001b[1;31m---------------------------------------------------------------------------\u001b[0m",
      "\u001b[1;31mTypeError\u001b[0m                                 Traceback (most recent call last)",
      "Cell \u001b[1;32mIn[79], line 1\u001b[0m\n\u001b[1;32m----> 1\u001b[0m x \u001b[38;5;241m=\u001b[39m \u001b[38;5;124m\"\u001b[39m\u001b[38;5;124mIce cream is my favorite\u001b[39m\u001b[38;5;124m\"\u001b[39m \u001b[38;5;241m+\u001b[39m \u001b[38;5;241m2\u001b[39m\n\u001b[0;32m      3\u001b[0m \u001b[38;5;28mprint\u001b[39m(x)\n",
      "\u001b[1;31mTypeError\u001b[0m: can only concatenate str (not \"int\") to str"
     ]
    }
   ],
   "source": [
    "x = \"Ice cream is my favorite\" + 2\n",
    "\n",
    "print(x)"
   ]
  },
  {
   "cell_type": "code",
   "execution_count": 85,
   "id": "d429731b-7848-44ee-a28c-4d7d3a36e738",
   "metadata": {},
   "outputs": [
    {
     "name": "stdout",
     "output_type": "stream",
     "text": [
      "9\n"
     ]
    }
   ],
   "source": [
    "#or int + int\n",
    "\n",
    "y = 4 + 5\n",
    "\n",
    "print(y)"
   ]
  },
  {
   "cell_type": "code",
   "execution_count": null,
   "id": "29dfc6e7-0392-4ce5-94a7-d6767ed47ac0",
   "metadata": {},
   "outputs": [],
   "source": []
  },
  {
   "cell_type": "code",
   "execution_count": 89,
   "id": "2a054a0c-e953-42c0-b8d2-649afb6b9aaf",
   "metadata": {},
   "outputs": [
    {
     "name": "stdout",
     "output_type": "stream",
     "text": [
      "Ice cream is my favorite.\n"
     ]
    }
   ],
   "source": [
    "x = 'Ice cream'\n",
    "y = ' is'\n",
    "z = ' my favorite.'\n",
    "\n",
    "print(x+y+z)"
   ]
  },
  {
   "cell_type": "code",
   "execution_count": null,
   "id": "fa9940ff-b9b4-4db9-ad5f-4939323d0df7",
   "metadata": {},
   "outputs": [],
   "source": []
  },
  {
   "cell_type": "code",
   "execution_count": 93,
   "id": "4ae9240a-5709-479f-a639-d794d0a605f2",
   "metadata": {},
   "outputs": [
    {
     "name": "stdout",
     "output_type": "stream",
     "text": [
      "Ice cream 3\n"
     ]
    }
   ],
   "source": [
    "x = 'Ice cream'\n",
    "y = '3'\n",
    "\n",
    "print(x,y)"
   ]
  },
  {
   "cell_type": "code",
   "execution_count": null,
   "id": "2bb3c79a-4109-4425-b831-cb0e6195f17a",
   "metadata": {},
   "outputs": [],
   "source": []
  },
  {
   "cell_type": "markdown",
   "id": "fcfa59c0-6018-43a0-bc74-cb72122a3f5a",
   "metadata": {
    "jp-MarkdownHeadingCollapsed": true
   },
   "source": [
    "# Data Type"
   ]
  },
  {
   "cell_type": "markdown",
   "id": "492d625e-5218-4b78-8be8-431da7a9955d",
   "metadata": {
    "jp-MarkdownHeadingCollapsed": true
   },
   "source": [
    "### 1. Numeric"
   ]
  },
  {
   "cell_type": "markdown",
   "id": "a0b900a2-57b0-4c53-b2e2-87bcf094b964",
   "metadata": {
    "jp-MarkdownHeadingCollapsed": true
   },
   "source": [
    "#### Integers -- A whole number, whether positive or negative"
   ]
  },
  {
   "cell_type": "code",
   "execution_count": 102,
   "id": "9910c6b8-9e62-4794-bbcb-8f7eb82c0350",
   "metadata": {},
   "outputs": [
    {
     "data": {
      "text/plain": [
       "int"
      ]
     },
     "execution_count": 102,
     "metadata": {},
     "output_type": "execute_result"
    }
   ],
   "source": [
    "type(-12)"
   ]
  },
  {
   "cell_type": "code",
   "execution_count": 104,
   "id": "b6258346-25c7-4f23-a495-6d740adc2796",
   "metadata": {},
   "outputs": [
    {
     "data": {
      "text/plain": [
       "int"
      ]
     },
     "execution_count": 104,
     "metadata": {},
     "output_type": "execute_result"
    }
   ],
   "source": [
    "type(-12+100)"
   ]
  },
  {
   "cell_type": "markdown",
   "id": "d912fda9-0a61-4b6d-9a80-278c35232e09",
   "metadata": {
    "jp-MarkdownHeadingCollapsed": true
   },
   "source": [
    "#### Float -- with decimal (小數點)"
   ]
  },
  {
   "cell_type": "code",
   "execution_count": 107,
   "id": "f9516a5f-2fcf-4380-92ea-314ded0ff1b5",
   "metadata": {},
   "outputs": [
    {
     "data": {
      "text/plain": [
       "float"
      ]
     },
     "execution_count": 107,
     "metadata": {},
     "output_type": "execute_result"
    }
   ],
   "source": [
    "type(-12+12.5)"
   ]
  },
  {
   "cell_type": "markdown",
   "id": "fee65709-4f33-401d-bf5a-e9a8d6cfd12b",
   "metadata": {
    "jp-MarkdownHeadingCollapsed": true
   },
   "source": [
    "#### Complex -- Imaginary Number (only J works)"
   ]
  },
  {
   "cell_type": "code",
   "execution_count": 114,
   "id": "84c3266e-623e-4546-9bb1-a385b8111b37",
   "metadata": {},
   "outputs": [
    {
     "data": {
      "text/plain": [
       "complex"
      ]
     },
     "execution_count": 114,
     "metadata": {},
     "output_type": "execute_result"
    }
   ],
   "source": [
    "type(13 + 5j)"
   ]
  },
  {
   "cell_type": "markdown",
   "id": "dadc52e1-a906-4d92-af99-7b356c840088",
   "metadata": {
    "jp-MarkdownHeadingCollapsed": true
   },
   "source": [
    "### 2. Boolean Value (True or Flase)"
   ]
  },
  {
   "cell_type": "code",
   "execution_count": 127,
   "id": "b58d530f-8252-4e4b-9a83-b9f09f085587",
   "metadata": {},
   "outputs": [
    {
     "data": {
      "text/plain": [
       "bool"
      ]
     },
     "execution_count": 127,
     "metadata": {},
     "output_type": "execute_result"
    }
   ],
   "source": [
    "type(True)"
   ]
  },
  {
   "cell_type": "code",
   "execution_count": 130,
   "id": "6c5d2062-0fc0-4849-a2b3-3f476a37a45a",
   "metadata": {},
   "outputs": [
    {
     "data": {
      "text/plain": [
       "bool"
      ]
     },
     "execution_count": 130,
     "metadata": {},
     "output_type": "execute_result"
    }
   ],
   "source": [
    "type(1>5)"
   ]
  },
  {
   "cell_type": "code",
   "execution_count": 135,
   "id": "003755b6-12e5-405c-9963-be78174f3b46",
   "metadata": {},
   "outputs": [
    {
     "data": {
      "text/plain": [
       "False"
      ]
     },
     "execution_count": 135,
     "metadata": {},
     "output_type": "execute_result"
    }
   ],
   "source": [
    "1>5"
   ]
  },
  {
   "cell_type": "code",
   "execution_count": 137,
   "id": "74c437c3-c6c0-4c9e-ae6e-7110b25d1cd7",
   "metadata": {},
   "outputs": [
    {
     "data": {
      "text/plain": [
       "True"
      ]
     },
     "execution_count": 137,
     "metadata": {},
     "output_type": "execute_result"
    }
   ],
   "source": [
    "1 == 1"
   ]
  },
  {
   "cell_type": "markdown",
   "id": "8f749514-5db0-4c19-a137-4158d66e3eac",
   "metadata": {
    "jp-MarkdownHeadingCollapsed": true
   },
   "source": [
    "### 3. Sequence "
   ]
  },
  {
   "cell_type": "markdown",
   "id": "855c7dce-6440-41fd-a0e7-89e96b01fcbf",
   "metadata": {
    "jp-MarkdownHeadingCollapsed": true
   },
   "source": [
    "#### String"
   ]
  },
  {
   "cell_type": "code",
   "execution_count": 147,
   "id": "cce26d66-2321-4c46-9281-47c2b58b45fb",
   "metadata": {},
   "outputs": [
    {
     "data": {
      "text/plain": [
       "'Single Quotes'"
      ]
     },
     "execution_count": 147,
     "metadata": {},
     "output_type": "execute_result"
    }
   ],
   "source": [
    "'Single Quotes'"
   ]
  },
  {
   "cell_type": "code",
   "execution_count": 149,
   "id": "dd8ccb3e-3776-4fc9-9632-cc4a4b678837",
   "metadata": {},
   "outputs": [
    {
     "data": {
      "text/plain": [
       "'Double Quotes'"
      ]
     },
     "execution_count": 149,
     "metadata": {},
     "output_type": "execute_result"
    }
   ],
   "source": [
    "\"Double Quotes\""
   ]
  },
  {
   "cell_type": "code",
   "execution_count": 157,
   "id": "1c85fb06-2c60-494d-9079-a7519251e08b",
   "metadata": {},
   "outputs": [],
   "source": [
    "multiline = \"\"\"\n",
    "Hi, I am Tsen-Yun Hung.\n",
    "I am looking for an analyst job.\n",
    "Preferably, a remote job.\n",
    "\"\"\""
   ]
  },
  {
   "cell_type": "code",
   "execution_count": 159,
   "id": "afb71b53-d0a5-4a41-ae86-f72444f46270",
   "metadata": {},
   "outputs": [
    {
     "name": "stdout",
     "output_type": "stream",
     "text": [
      "\n",
      "Hi, I am Tsen-Yun Hung.\n",
      "I am looking for an analyst job.\n",
      "Preferably, a remote job.\n",
      "\n"
     ]
    }
   ],
   "source": [
    "print(multiline)"
   ]
  },
  {
   "cell_type": "code",
   "execution_count": 161,
   "id": "51e44c9d-756b-40fc-b8d9-3c3b79345b77",
   "metadata": {},
   "outputs": [
    {
     "ename": "SyntaxError",
     "evalue": "invalid syntax (2435660927.py, line 1)",
     "output_type": "error",
     "traceback": [
      "\u001b[1;36m  Cell \u001b[1;32mIn[161], line 1\u001b[1;36m\u001b[0m\n\u001b[1;33m    'I've been to Europe.''\u001b[0m\n\u001b[1;37m       ^\u001b[0m\n\u001b[1;31mSyntaxError\u001b[0m\u001b[1;31m:\u001b[0m invalid syntax\n"
     ]
    }
   ],
   "source": [
    "'I've been to Europe.''"
   ]
  },
  {
   "cell_type": "code",
   "execution_count": 163,
   "id": "cbf7134c-5f4f-45bf-bbba-1a2c77b4d5bd",
   "metadata": {},
   "outputs": [
    {
     "ename": "SyntaxError",
     "evalue": "unterminated string literal (detected at line 1) (1369464333.py, line 1)",
     "output_type": "error",
     "traceback": [
      "\u001b[1;36m  Cell \u001b[1;32mIn[163], line 1\u001b[1;36m\u001b[0m\n\u001b[1;33m    'I've been to Europe.'\u001b[0m\n\u001b[1;37m                         ^\u001b[0m\n\u001b[1;31mSyntaxError\u001b[0m\u001b[1;31m:\u001b[0m unterminated string literal (detected at line 1)\n"
     ]
    }
   ],
   "source": [
    "'I've been to Europe.'"
   ]
  },
  {
   "cell_type": "code",
   "execution_count": 165,
   "id": "85a028a5-0fb0-40ce-a203-ced00643b3f6",
   "metadata": {},
   "outputs": [
    {
     "data": {
      "text/plain": [
       "\"I've been to Europe.\""
      ]
     },
     "execution_count": 165,
     "metadata": {},
     "output_type": "execute_result"
    }
   ],
   "source": [
    "\"I've been to Europe.\""
   ]
  },
  {
   "cell_type": "code",
   "execution_count": 167,
   "id": "c1c4e5ca-7351-475e-835a-be08eed54a2f",
   "metadata": {},
   "outputs": [
    {
     "data": {
      "text/plain": [
       "str"
      ]
     },
     "execution_count": 167,
     "metadata": {},
     "output_type": "execute_result"
    }
   ],
   "source": [
    "type(multiline)"
   ]
  },
  {
   "cell_type": "markdown",
   "id": "fc2c984e-b83d-44f3-aaab-0e207e4eb81c",
   "metadata": {
    "jp-MarkdownHeadingCollapsed": true
   },
   "source": [
    "#### use [] to search within string, :number (starting from 0)"
   ]
  },
  {
   "cell_type": "code",
   "execution_count": 171,
   "id": "eb943839-7772-4478-a2a0-195eac822cd2",
   "metadata": {},
   "outputs": [],
   "source": [
    "a = 'Hello World!'"
   ]
  },
  {
   "cell_type": "code",
   "execution_count": 173,
   "id": "d0f30e81-9e6c-42c9-bc83-2eae459f9af0",
   "metadata": {},
   "outputs": [
    {
     "name": "stdout",
     "output_type": "stream",
     "text": [
      "Hello\n"
     ]
    }
   ],
   "source": [
    "print(a[:5])"
   ]
  },
  {
   "cell_type": "code",
   "execution_count": 179,
   "id": "1220b296-8148-44f5-b217-11d590ebac2b",
   "metadata": {},
   "outputs": [
    {
     "name": "stdout",
     "output_type": "stream",
     "text": [
      "W\n"
     ]
    }
   ],
   "source": [
    "print(a[6])"
   ]
  },
  {
   "cell_type": "code",
   "execution_count": 183,
   "id": "9592700d-ccf0-4a12-aa4b-b5c1162b21cc",
   "metadata": {},
   "outputs": [
    {
     "name": "stdout",
     "output_type": "stream",
     "text": [
      "!\n"
     ]
    }
   ],
   "source": [
    "print(a[-1])"
   ]
  },
  {
   "cell_type": "code",
   "execution_count": 185,
   "id": "edb9a50a-f1cf-4cc4-993a-08ae185fb75e",
   "metadata": {},
   "outputs": [
    {
     "name": "stdout",
     "output_type": "stream",
     "text": [
      "llo\n"
     ]
    }
   ],
   "source": [
    "print(a[2:5])"
   ]
  },
  {
   "cell_type": "code",
   "execution_count": 188,
   "id": "dba9745c-9a82-4a24-9e9a-eec2fddc1274",
   "metadata": {},
   "outputs": [
    {
     "data": {
      "text/plain": [
       "'Hello World!Hello World!Hello World!'"
      ]
     },
     "execution_count": 188,
     "metadata": {},
     "output_type": "execute_result"
    }
   ],
   "source": [
    "a*3"
   ]
  },
  {
   "cell_type": "code",
   "execution_count": 190,
   "id": "6bae6542-0199-4ddd-ae5b-11cecd2d1c0c",
   "metadata": {},
   "outputs": [
    {
     "data": {
      "text/plain": [
       "'Hello World!Hello World!'"
      ]
     },
     "execution_count": 190,
     "metadata": {},
     "output_type": "execute_result"
    }
   ],
   "source": [
    "a + a"
   ]
  },
  {
   "cell_type": "markdown",
   "id": "b8d9e115-62f1-484e-8903-766017ca1045",
   "metadata": {
    "jp-MarkdownHeadingCollapsed": true
   },
   "source": [
    "#### List (with [])"
   ]
  },
  {
   "cell_type": "code",
   "execution_count": 193,
   "id": "be1a9968-eb82-447a-b1f0-1f529be70e56",
   "metadata": {},
   "outputs": [
    {
     "data": {
      "text/plain": [
       "[1, 2, 3]"
      ]
     },
     "execution_count": 193,
     "metadata": {},
     "output_type": "execute_result"
    }
   ],
   "source": [
    "[1,2,3]"
   ]
  },
  {
   "cell_type": "code",
   "execution_count": 195,
   "id": "a91a29e7-3853-4d6a-baf6-b1eb58ac6725",
   "metadata": {},
   "outputs": [
    {
     "data": {
      "text/plain": [
       "['Cookie', 'Cake', 'Candy']"
      ]
     },
     "execution_count": 195,
     "metadata": {},
     "output_type": "execute_result"
    }
   ],
   "source": [
    "['Cookie', 'Cake', 'Candy']"
   ]
  },
  {
   "cell_type": "code",
   "execution_count": 221,
   "id": "7e597d17-1725-4c7a-83b2-6186309eb780",
   "metadata": {},
   "outputs": [
    {
     "data": {
      "text/plain": [
       "['Vanilla', 35, ['Spoon', 'Fork'], True]"
      ]
     },
     "execution_count": 221,
     "metadata": {},
     "output_type": "execute_result"
    }
   ],
   "source": [
    "#different dypes also work\n",
    "\n",
    "['Vanilla', 35, ['Spoon','Fork'], True]"
   ]
  },
  {
   "cell_type": "code",
   "execution_count": 213,
   "id": "04c2c808-6643-4d87-a18a-ee94fce1860b",
   "metadata": {},
   "outputs": [
    {
     "data": {
      "text/plain": [
       "['Cookie', 'Cake', 'Candy', 'Chocolate']"
      ]
     },
     "execution_count": 213,
     "metadata": {},
     "output_type": "execute_result"
    }
   ],
   "source": [
    "#adding (append -> to the end)\n",
    "\n",
    "Dessert= ['Cookie', 'Cake', 'Candy']\n",
    "\n",
    "Dessert.append('Chocolate')\n",
    "\n",
    "Dessert"
   ]
  },
  {
   "cell_type": "code",
   "execution_count": 217,
   "id": "8136dff6-7908-400d-b9aa-abaab325b3e8",
   "metadata": {},
   "outputs": [
    {
     "data": {
      "text/plain": [
       "['Cola', 'Cake', 'Candy', 'Chocolate']"
      ]
     },
     "execution_count": 217,
     "metadata": {},
     "output_type": "execute_result"
    }
   ],
   "source": [
    "#change \n",
    "\n",
    "Dessert[0] = 'Cola'\n",
    "\n",
    "Dessert"
   ]
  },
  {
   "cell_type": "code",
   "execution_count": 231,
   "id": "4d85a76a-6681-4b2b-a126-62e208996530",
   "metadata": {},
   "outputs": [],
   "source": [
    "nest_list = ['Vanilla', 35, ['Spoon','Fork'], True]"
   ]
  },
  {
   "cell_type": "code",
   "execution_count": 233,
   "id": "cd1879bf-d97c-4d3d-8848-9e53939b3794",
   "metadata": {},
   "outputs": [
    {
     "data": {
      "text/plain": [
       "'Vanilla'"
      ]
     },
     "execution_count": 233,
     "metadata": {},
     "output_type": "execute_result"
    }
   ],
   "source": [
    "nest_list[0]"
   ]
  },
  {
   "cell_type": "code",
   "execution_count": 235,
   "id": "3da58398-4e55-4e7e-8ec6-d186e2755297",
   "metadata": {},
   "outputs": [
    {
     "data": {
      "text/plain": [
       "['Spoon', 'Fork']"
      ]
     },
     "execution_count": 235,
     "metadata": {},
     "output_type": "execute_result"
    }
   ],
   "source": [
    "nest_list[2]"
   ]
  },
  {
   "cell_type": "code",
   "execution_count": 237,
   "id": "d544a809-05fa-4058-a8a4-d84e44add5e6",
   "metadata": {},
   "outputs": [
    {
     "data": {
      "text/plain": [
       "'Fork'"
      ]
     },
     "execution_count": 237,
     "metadata": {},
     "output_type": "execute_result"
    }
   ],
   "source": [
    "nest_list[2][1]"
   ]
  },
  {
   "cell_type": "markdown",
   "id": "cd0780e0-4777-4d86-82ef-3fe8b1c0ad70",
   "metadata": {
    "jp-MarkdownHeadingCollapsed": true
   },
   "source": [
    "#### Tupal (cannot be changed after it's created)"
   ]
  },
  {
   "cell_type": "code",
   "execution_count": 264,
   "id": "3dd077b0-e966-4595-a3ec-8356f0ec4ee2",
   "metadata": {},
   "outputs": [],
   "source": [
    "turple_scoops = (1,2,3,2,1)"
   ]
  },
  {
   "cell_type": "code",
   "execution_count": 266,
   "id": "42e2be35-2f20-48dc-9eb9-1800fd2dc6d4",
   "metadata": {},
   "outputs": [
    {
     "data": {
      "text/plain": [
       "tuple"
      ]
     },
     "execution_count": 266,
     "metadata": {},
     "output_type": "execute_result"
    }
   ],
   "source": [
    "type(turple_scoops)"
   ]
  },
  {
   "cell_type": "code",
   "execution_count": 268,
   "id": "10a4f966-8a6b-4788-a7a0-2ccf2e500b0b",
   "metadata": {},
   "outputs": [
    {
     "data": {
      "text/plain": [
       "1"
      ]
     },
     "execution_count": 268,
     "metadata": {},
     "output_type": "execute_result"
    }
   ],
   "source": [
    "turple_scoops[0]"
   ]
  },
  {
   "cell_type": "code",
   "execution_count": 270,
   "id": "43e179d7-73b9-4680-83be-611d7cbb95c8",
   "metadata": {},
   "outputs": [
    {
     "ename": "AttributeError",
     "evalue": "'tuple' object has no attribute 'append'",
     "output_type": "error",
     "traceback": [
      "\u001b[1;31m---------------------------------------------------------------------------\u001b[0m",
      "\u001b[1;31mAttributeError\u001b[0m                            Traceback (most recent call last)",
      "Cell \u001b[1;32mIn[270], line 1\u001b[0m\n\u001b[1;32m----> 1\u001b[0m turple_scoops\u001b[38;5;241m.\u001b[39mappend(\u001b[38;5;241m3\u001b[39m)\n",
      "\u001b[1;31mAttributeError\u001b[0m: 'tuple' object has no attribute 'append'"
     ]
    }
   ],
   "source": [
    "turple_scoops.append(3)"
   ]
  },
  {
   "cell_type": "markdown",
   "id": "2d881ff5-2ddf-4c06-9a44-e789e6e052ea",
   "metadata": {
    "jp-MarkdownHeadingCollapsed": true
   },
   "source": [
    "#### Sets  (no duplicate elements, values within cannot be accessed using an index as it does not have an index, it is unordered)"
   ]
  },
  {
   "cell_type": "code",
   "execution_count": 278,
   "id": "16f78739-2179-45f6-ac37-4f5c0f576f73",
   "metadata": {},
   "outputs": [],
   "source": [
    "daily_pints = {1,2,3,}"
   ]
  },
  {
   "cell_type": "code",
   "execution_count": 280,
   "id": "ec9e8b90-0e1a-4dc1-a176-ebdfa74ef9a2",
   "metadata": {},
   "outputs": [
    {
     "data": {
      "text/plain": [
       "set"
      ]
     },
     "execution_count": 280,
     "metadata": {},
     "output_type": "execute_result"
    }
   ],
   "source": [
    "type(daily_pints)"
   ]
  },
  {
   "cell_type": "code",
   "execution_count": 282,
   "id": "6a71d4bf-2825-42d9-99a5-de89283e24dd",
   "metadata": {},
   "outputs": [
    {
     "name": "stdout",
     "output_type": "stream",
     "text": [
      "{1, 2, 3}\n"
     ]
    }
   ],
   "source": [
    "print(daily_pints)"
   ]
  },
  {
   "cell_type": "code",
   "execution_count": 302,
   "id": "5c4804df-dfde-4351-aca7-a56be81d83c6",
   "metadata": {},
   "outputs": [
    {
     "name": "stdout",
     "output_type": "stream",
     "text": [
      "{8, 9, 2, 3}\n"
     ]
    }
   ],
   "source": [
    "#only print unique values\n",
    "\n",
    "daily_pints_log = {2,2,3,3,3,2,2,9,8,9,9,8}\n",
    "\n",
    "print(daily_pints_log)"
   ]
  },
  {
   "cell_type": "code",
   "execution_count": 324,
   "id": "9b354401-cd85-432f-900a-a85f2ab82d75",
   "metadata": {},
   "outputs": [
    {
     "name": "stdout",
     "output_type": "stream",
     "text": [
      "{8, 1, 5, 9}\n"
     ]
    }
   ],
   "source": [
    "wifes_daily_pints_log = {1,5,9,1,8,9,5,5,8,1,8,1}\n",
    "\n",
    "print(wifes_daily_pints_log)"
   ]
  },
  {
   "cell_type": "code",
   "execution_count": 326,
   "id": "7dfafde8-2182-4324-a3a2-616c4027e292",
   "metadata": {},
   "outputs": [
    {
     "name": "stdout",
     "output_type": "stream",
     "text": [
      "{1, 2, 3, 5, 8, 9}\n"
     ]
    }
   ],
   "source": [
    "#unique values of two sets\n",
    "\n",
    "print(daily_pints_log | wifes_daily_pints_log)"
   ]
  },
  {
   "cell_type": "code",
   "execution_count": 332,
   "id": "ca7c6ada-27b3-44de-99d8-73358ed1ead8",
   "metadata": {},
   "outputs": [
    {
     "name": "stdout",
     "output_type": "stream",
     "text": [
      "{8, 9}\n"
     ]
    }
   ],
   "source": [
    "#the communal unique values\n",
    "\n",
    "print(daily_pints_log & wifes_daily_pints_log)"
   ]
  },
  {
   "cell_type": "code",
   "execution_count": 336,
   "id": "1cda9587-26ca-492c-a84a-cc3750c13863",
   "metadata": {},
   "outputs": [
    {
     "name": "stdout",
     "output_type": "stream",
     "text": [
      "{2, 3}\n"
     ]
    }
   ],
   "source": [
    "#the unique values that does not match (sequence matters)\n",
    "\n",
    "print(daily_pints_log - wifes_daily_pints_log)"
   ]
  },
  {
   "cell_type": "code",
   "execution_count": 340,
   "id": "c5ce79d9-b8f8-418d-aeb8-685871623bd0",
   "metadata": {},
   "outputs": [
    {
     "name": "stdout",
     "output_type": "stream",
     "text": [
      "{1, 5}\n"
     ]
    }
   ],
   "source": [
    "#the unique values that does not match (sequence matters)\n",
    "\n",
    "print(wifes_daily_pints_log - daily_pints_log)"
   ]
  },
  {
   "cell_type": "code",
   "execution_count": 348,
   "id": "b5d349a4-0e1a-4676-933e-d52050abfb5d",
   "metadata": {},
   "outputs": [
    {
     "name": "stdout",
     "output_type": "stream",
     "text": [
      "{1, 2, 3, 5}\n"
     ]
    }
   ],
   "source": [
    "#the unque values in one or another, but not in both\n",
    "\n",
    "print(wifes_daily_pints_log ^ daily_pints_log)"
   ]
  },
  {
   "cell_type": "markdown",
   "id": "80ff8489-3664-4ff3-88df-9a26ff630d23",
   "metadata": {
    "jp-MarkdownHeadingCollapsed": true
   },
   "source": [
    "### 4. Dictionary"
   ]
  },
  {
   "cell_type": "code",
   "execution_count": 351,
   "id": "da25bfaa-f78b-4aed-bd0e-1bf465af4a58",
   "metadata": {},
   "outputs": [],
   "source": [
    "# Key/Value Pair\n",
    "\n",
    "dict_cream = {'name': 'Alex Freberg', 'weekly intake': 5, 'favorite ice cream': ['Mint Chocolate', 'Lemon']}"
   ]
  },
  {
   "cell_type": "code",
   "execution_count": 353,
   "id": "d88ba9a6-d83e-40ea-9939-313f1410bc6f",
   "metadata": {},
   "outputs": [
    {
     "data": {
      "text/plain": [
       "dict"
      ]
     },
     "execution_count": 353,
     "metadata": {},
     "output_type": "execute_result"
    }
   ],
   "source": [
    "type(dict_cream)"
   ]
  },
  {
   "cell_type": "code",
   "execution_count": 355,
   "id": "cde77edf-a3dc-4528-b9c7-3502671ced01",
   "metadata": {},
   "outputs": [
    {
     "name": "stdout",
     "output_type": "stream",
     "text": [
      "{'name': 'Alex Freberg', 'weekly intake': 5, 'favorite ice cream': ['Mint Chocolate', 'Lemon']}\n"
     ]
    }
   ],
   "source": [
    "print(dict_cream)"
   ]
  },
  {
   "cell_type": "code",
   "execution_count": 361,
   "id": "a663869c-fd53-4e6d-be35-2518188a4892",
   "metadata": {},
   "outputs": [
    {
     "data": {
      "text/plain": [
       "dict_values(['Alex Freberg', 5, ['Mint Chocolate', 'Lemon']])"
      ]
     },
     "execution_count": 361,
     "metadata": {},
     "output_type": "execute_result"
    }
   ],
   "source": [
    "# values (after :)\n",
    "\n",
    "dict_cream.values()"
   ]
  },
  {
   "cell_type": "code",
   "execution_count": 363,
   "id": "47173b6d-dac7-40ec-b91f-4f528a6e106a",
   "metadata": {},
   "outputs": [
    {
     "data": {
      "text/plain": [
       "dict_keys(['name', 'weekly intake', 'favorite ice cream'])"
      ]
     },
     "execution_count": 363,
     "metadata": {},
     "output_type": "execute_result"
    }
   ],
   "source": [
    "# keys (before :)\n",
    "\n",
    "dict_cream.keys()"
   ]
  },
  {
   "cell_type": "code",
   "execution_count": 367,
   "id": "884f2227-09d7-417e-a194-8118abf6a653",
   "metadata": {},
   "outputs": [
    {
     "data": {
      "text/plain": [
       "dict_items([('name', 'Alex Freberg'), ('weekly intake', 5), ('favorite ice cream', ['Mint Chocolate', 'Lemon'])])"
      ]
     },
     "execution_count": 367,
     "metadata": {},
     "output_type": "execute_result"
    }
   ],
   "source": [
    "# (key, vlaue) pair is one item\n",
    "\n",
    "dict_cream.items()"
   ]
  },
  {
   "cell_type": "code",
   "execution_count": 373,
   "id": "8029e315-a447-451e-ae3b-0ebcff9130aa",
   "metadata": {},
   "outputs": [
    {
     "ename": "KeyError",
     "evalue": "0",
     "output_type": "error",
     "traceback": [
      "\u001b[1;31m---------------------------------------------------------------------------\u001b[0m",
      "\u001b[1;31mKeyError\u001b[0m                                  Traceback (most recent call last)",
      "Cell \u001b[1;32mIn[373], line 3\u001b[0m\n\u001b[0;32m      1\u001b[0m \u001b[38;5;66;03m# dict is by key, does not have index (no sequences)\u001b[39;00m\n\u001b[1;32m----> 3\u001b[0m dict_cream[\u001b[38;5;241m0\u001b[39m]\n",
      "\u001b[1;31mKeyError\u001b[0m: 0"
     ]
    }
   ],
   "source": [
    "# dict is by key, does not have index (no sequences)\n",
    "\n",
    "dict_cream[0]"
   ]
  },
  {
   "cell_type": "code",
   "execution_count": 375,
   "id": "623c2f88-b23a-4e86-9e94-bcd97fe477d5",
   "metadata": {},
   "outputs": [
    {
     "data": {
      "text/plain": [
       "'Alex Freberg'"
      ]
     },
     "execution_count": 375,
     "metadata": {},
     "output_type": "execute_result"
    }
   ],
   "source": [
    "dict_cream['name']"
   ]
  },
  {
   "cell_type": "code",
   "execution_count": 383,
   "id": "0998f881-7aca-40d8-b327-58c0fbee990b",
   "metadata": {},
   "outputs": [
    {
     "name": "stdout",
     "output_type": "stream",
     "text": [
      "Christine Freberg\n"
     ]
    }
   ],
   "source": [
    "# can be changed\n",
    "\n",
    "dict_cream['name'] = 'Christine Freberg'\n",
    "\n",
    "print(dict_cream['name'])"
   ]
  },
  {
   "cell_type": "code",
   "execution_count": 385,
   "id": "7ea0aa01-3ac9-42ee-99c8-05282d9c7fab",
   "metadata": {},
   "outputs": [
    {
     "name": "stdout",
     "output_type": "stream",
     "text": [
      "{'name': 'Christine Freberg', 'weekly intake': 5, 'favorite ice cream': ['Mint Chocolate', 'Lemon']}\n"
     ]
    }
   ],
   "source": [
    "print(dict_cream)"
   ]
  },
  {
   "cell_type": "code",
   "execution_count": 395,
   "id": "3e576498-352a-4690-ae07-7d130c45727e",
   "metadata": {},
   "outputs": [
    {
     "name": "stdout",
     "output_type": "stream",
     "text": [
      "{'name': 'Christine Freberg', 'weekly intake': 10, 'favorite ice cream': ['Mint Chocolate', 'Lemon'], 'weight': 300}\n"
     ]
    }
   ],
   "source": [
    "# can update at once, but the erasered key value ones are not deleted\n",
    "\n",
    "dict_cream.update({'name': 'Christine Freberg', 'weekly intake': 10, 'weight': 300})\n",
    "\n",
    "print(dict_cream)"
   ]
  },
  {
   "cell_type": "code",
   "execution_count": 399,
   "id": "dbb66bad-8002-4c3d-b2eb-ec9416dbbd23",
   "metadata": {},
   "outputs": [
    {
     "name": "stdout",
     "output_type": "stream",
     "text": [
      "{'name': 'Christine Freberg', 'weekly intake': 10, 'favorite ice cream': ['Mint Chocolate', 'Lemon']}\n"
     ]
    }
   ],
   "source": [
    "# delete\n",
    "\n",
    "del dict_cream['weight']\n",
    "\n",
    "print(dict_cream)"
   ]
  },
  {
   "cell_type": "markdown",
   "id": "799c0f5f-ab1b-4397-b31d-3bdca697a4a3",
   "metadata": {
    "jp-MarkdownHeadingCollapsed": true
   },
   "source": [
    "# Operators "
   ]
  },
  {
   "cell_type": "markdown",
   "id": "86d45bfe-29bd-4e65-8477-973ee924c4f4",
   "metadata": {
    "jp-MarkdownHeadingCollapsed": true
   },
   "source": [
    "### Comparison Operators"
   ]
  },
  {
   "cell_type": "code",
   "execution_count": 407,
   "id": "874ecfcc-8bdb-4142-abc4-aa62351ba64c",
   "metadata": {},
   "outputs": [
    {
     "data": {
      "text/plain": [
       "False"
      ]
     },
     "execution_count": 407,
     "metadata": {},
     "output_type": "execute_result"
    }
   ],
   "source": [
    "# == Equal\n",
    "# != Not Euqal\n",
    "# = is 'assign'\n",
    "\n",
    "10 == 50"
   ]
  },
  {
   "cell_type": "code",
   "execution_count": 409,
   "id": "b8ed7e7e-4473-48db-b384-33993ec8916a",
   "metadata": {},
   "outputs": [
    {
     "data": {
      "text/plain": [
       "True"
      ]
     },
     "execution_count": 409,
     "metadata": {},
     "output_type": "execute_result"
    }
   ],
   "source": [
    "10 != 50"
   ]
  },
  {
   "cell_type": "code",
   "execution_count": 411,
   "id": "6d8536d6-1848-4cdc-8a42-a32be8e162a7",
   "metadata": {},
   "outputs": [
    {
     "data": {
      "text/plain": [
       "False"
      ]
     },
     "execution_count": 411,
     "metadata": {},
     "output_type": "execute_result"
    }
   ],
   "source": [
    "'Milk' == 'Coffee'"
   ]
  },
  {
   "cell_type": "code",
   "execution_count": 413,
   "id": "1a5c3ef8-64b0-4712-bfbc-1d4d6e3c5bfa",
   "metadata": {},
   "outputs": [
    {
     "data": {
      "text/plain": [
       "True"
      ]
     },
     "execution_count": 413,
     "metadata": {},
     "output_type": "execute_result"
    }
   ],
   "source": [
    "x = 'Milk'\n",
    "y = 'Chocolate'\n",
    "\n",
    "x != y"
   ]
  },
  {
   "cell_type": "code",
   "execution_count": 416,
   "id": "53de2c9e-178b-4ff7-97a8-fbf181f18397",
   "metadata": {},
   "outputs": [
    {
     "data": {
      "text/plain": [
       "True"
      ]
     },
     "execution_count": 416,
     "metadata": {},
     "output_type": "execute_result"
    }
   ],
   "source": [
    "10 < 50"
   ]
  },
  {
   "cell_type": "code",
   "execution_count": 418,
   "id": "6cbc5615-446d-4e33-ae84-681b29d65f90",
   "metadata": {},
   "outputs": [
    {
     "data": {
      "text/plain": [
       "False"
      ]
     },
     "execution_count": 418,
     "metadata": {},
     "output_type": "execute_result"
    }
   ],
   "source": [
    "10 < 10"
   ]
  },
  {
   "cell_type": "code",
   "execution_count": 422,
   "id": "d474b40c-e4c5-4ffc-bcb0-3bb5d36bd452",
   "metadata": {},
   "outputs": [
    {
     "data": {
      "text/plain": [
       "True"
      ]
     },
     "execution_count": 422,
     "metadata": {},
     "output_type": "execute_result"
    }
   ],
   "source": [
    "10 >= 10"
   ]
  },
  {
   "cell_type": "markdown",
   "id": "133565b4-847a-4136-8e16-837de025e305",
   "metadata": {
    "jp-MarkdownHeadingCollapsed": true
   },
   "source": [
    "### Logical Operators"
   ]
  },
  {
   "cell_type": "code",
   "execution_count": 426,
   "id": "7a046a95-942d-4e81-9004-cbb63f942b61",
   "metadata": {},
   "outputs": [
    {
     "data": {
      "text/plain": [
       "False"
      ]
     },
     "execution_count": 426,
     "metadata": {},
     "output_type": "execute_result"
    }
   ],
   "source": [
    "# and -> Ruturns True if both statement are true\n",
    "# or -> Returns True if one of the statements is true\n",
    "# not -> Reverse the result, returns Flase if the result is true\n",
    "\n",
    "(10 >= 50) and (50 > 10)"
   ]
  },
  {
   "cell_type": "code",
   "execution_count": 428,
   "id": "eab03eac-f5d1-4148-917d-475dcb659f00",
   "metadata": {},
   "outputs": [
    {
     "data": {
      "text/plain": [
       "True"
      ]
     },
     "execution_count": 428,
     "metadata": {},
     "output_type": "execute_result"
    }
   ],
   "source": [
    "(70 >= 50) and (50 > 10)"
   ]
  },
  {
   "cell_type": "code",
   "execution_count": 430,
   "id": "effb11b9-1242-4e6a-b5d0-692550e097ce",
   "metadata": {},
   "outputs": [
    {
     "data": {
      "text/plain": [
       "True"
      ]
     },
     "execution_count": 430,
     "metadata": {},
     "output_type": "execute_result"
    }
   ],
   "source": [
    "(10 >= 50) or (50 > 10)"
   ]
  },
  {
   "cell_type": "code",
   "execution_count": 436,
   "id": "3f23330f-1a04-45ed-b074-abc23b91364f",
   "metadata": {},
   "outputs": [
    {
     "data": {
      "text/plain": [
       "True"
      ]
     },
     "execution_count": 436,
     "metadata": {},
     "output_type": "execute_result"
    }
   ],
   "source": [
    "# M is higher Alphabet that c\n",
    "\n",
    "('Milk' >= 'Chocolate') and (50 > 10)"
   ]
  },
  {
   "cell_type": "code",
   "execution_count": 438,
   "id": "d9761743-8a9e-4a7c-a4b2-7c04237a7b8f",
   "metadata": {},
   "outputs": [
    {
     "data": {
      "text/plain": [
       "True"
      ]
     },
     "execution_count": 438,
     "metadata": {},
     "output_type": "execute_result"
    }
   ],
   "source": [
    "('Milk' >= 'Chocolate') or (50 > 10)"
   ]
  },
  {
   "cell_type": "code",
   "execution_count": 442,
   "id": "9e5f5386-62eb-4262-819d-8c45050d5c00",
   "metadata": {},
   "outputs": [
    {
     "data": {
      "text/plain": [
       "False"
      ]
     },
     "execution_count": 442,
     "metadata": {},
     "output_type": "execute_result"
    }
   ],
   "source": [
    "# Reverse True to Flase\n",
    "\n",
    "not (50 > 10)"
   ]
  },
  {
   "cell_type": "markdown",
   "id": "4b03052c-5663-4fc6-9e94-c87934eaadb1",
   "metadata": {
    "jp-MarkdownHeadingCollapsed": true
   },
   "source": [
    "### Membership Operators"
   ]
  },
  {
   "cell_type": "code",
   "execution_count": 450,
   "id": "e3f76e2d-038f-4fc5-b3dd-9a59328d4b8b",
   "metadata": {},
   "outputs": [
    {
     "data": {
      "text/plain": [
       "True"
      ]
     },
     "execution_count": 450,
     "metadata": {},
     "output_type": "execute_result"
    }
   ],
   "source": [
    "# in -> Return True if a sequence with the specified value is present in the object\n",
    "# not in -> Return True if a sequence with the specified value is NOT present in the object\n",
    "\n",
    "ice_cream = 'I love chocolate ice cream'\n",
    "\n",
    "'love' in ice_cream"
   ]
  },
  {
   "cell_type": "code",
   "execution_count": 452,
   "id": "07776d7f-885e-47ff-bb1c-ca0fc1c8df8a",
   "metadata": {},
   "outputs": [
    {
     "data": {
      "text/plain": [
       "True"
      ]
     },
     "execution_count": 452,
     "metadata": {},
     "output_type": "execute_result"
    }
   ],
   "source": [
    "scoops = [1,2,3,4,5]\n",
    "\n",
    "2 in scoops"
   ]
  },
  {
   "cell_type": "code",
   "execution_count": 454,
   "id": "a746ed4a-81c9-42fe-baf3-91addc0cde66",
   "metadata": {},
   "outputs": [
    {
     "data": {
      "text/plain": [
       "True"
      ]
     },
     "execution_count": 454,
     "metadata": {},
     "output_type": "execute_result"
    }
   ],
   "source": [
    "6 not in scoops"
   ]
  },
  {
   "cell_type": "code",
   "execution_count": 456,
   "id": "0b6fa62d-fb13-4025-9dbe-cadaa696a0da",
   "metadata": {},
   "outputs": [
    {
     "data": {
      "text/plain": [
       "True"
      ]
     },
     "execution_count": 456,
     "metadata": {},
     "output_type": "execute_result"
    }
   ],
   "source": [
    "wanted_scoops = 8\n",
    "\n",
    "wanted_scoops not in scoops"
   ]
  },
  {
   "cell_type": "code",
   "execution_count": 458,
   "id": "f86d07ed-cc4e-4515-ad43-1368eae3cba4",
   "metadata": {},
   "outputs": [
    {
     "data": {
      "text/plain": [
       "False"
      ]
     },
     "execution_count": 458,
     "metadata": {},
     "output_type": "execute_result"
    }
   ],
   "source": [
    "wanted_scoops in scoops"
   ]
  },
  {
   "cell_type": "markdown",
   "id": "47dd522a-5b28-431d-a033-f9179037b7e5",
   "metadata": {
    "jp-MarkdownHeadingCollapsed": true
   },
   "source": [
    "# If - (Elif) - Else Statements"
   ]
  },
  {
   "cell_type": "code",
   "execution_count": 466,
   "id": "aa5e7da0-239b-404d-acbd-ec2ba9db15b9",
   "metadata": {},
   "outputs": [
    {
     "name": "stdout",
     "output_type": "stream",
     "text": [
      "It worked!\n"
     ]
    }
   ],
   "source": [
    "if 25 > 10 :\n",
    "    print('It worked!')"
   ]
  },
  {
   "cell_type": "code",
   "execution_count": 468,
   "id": "042a5396-bb65-47bc-b66e-2cce0c2568ea",
   "metadata": {},
   "outputs": [],
   "source": [
    "if 25 < 10 :\n",
    "    print('It worked!')"
   ]
  },
  {
   "cell_type": "code",
   "execution_count": 470,
   "id": "1cba8f79-961a-469b-9418-908db854980b",
   "metadata": {},
   "outputs": [
    {
     "name": "stdout",
     "output_type": "stream",
     "text": [
      "It did not work...\n"
     ]
    }
   ],
   "source": [
    "if 25 < 10 :\n",
    "    print('It worked!')\n",
    "else:\n",
    "    print('It did not work...')"
   ]
  },
  {
   "cell_type": "code",
   "execution_count": 472,
   "id": "74b40b2a-7c75-42c9-a9e9-27d25b9d4553",
   "metadata": {},
   "outputs": [
    {
     "name": "stdout",
     "output_type": "stream",
     "text": [
      "It worked!\n"
     ]
    }
   ],
   "source": [
    "if 25 > 10 :\n",
    "    print('It worked!')\n",
    "else:\n",
    "    print('It did not work...')"
   ]
  },
  {
   "cell_type": "code",
   "execution_count": 474,
   "id": "819f807a-7a4f-44a6-b658-cf64b9efd718",
   "metadata": {},
   "outputs": [
    {
     "name": "stdout",
     "output_type": "stream",
     "text": [
      "elif worked!\n"
     ]
    }
   ],
   "source": [
    "if 25 < 10 :\n",
    "    print('It worked!')\n",
    "elif 25 < 30:\n",
    "    print('elif worked!')\n",
    "else:\n",
    "    print('It did not work...')"
   ]
  },
  {
   "cell_type": "code",
   "execution_count": 476,
   "id": "c842053a-dc3a-42df-95e5-72e883b24829",
   "metadata": {},
   "outputs": [
    {
     "name": "stdout",
     "output_type": "stream",
     "text": [
      "elif 3 worked!\n"
     ]
    }
   ],
   "source": [
    "if 25 < 10 :\n",
    "    print('It worked!')\n",
    "elif 25 < 20:\n",
    "    print('elif worked!')\n",
    "elif 25 < 12:\n",
    "    print('elif 2 worked!')\n",
    "elif 25 < 40:\n",
    "    print('elif 3 worked!')\n",
    "elif 25 < 50:\n",
    "    print('elif 4 worked!')\n",
    "else:\n",
    "    print('It did not work...')"
   ]
  },
  {
   "cell_type": "code",
   "execution_count": 478,
   "id": "cf1f4f17-7e25-4885-998b-c6a9d4e7f984",
   "metadata": {},
   "outputs": [
    {
     "name": "stdout",
     "output_type": "stream",
     "text": [
      "It worked!\n"
     ]
    }
   ],
   "source": [
    "if (25 < 10) or (1 < 3):\n",
    "    print('It worked!')\n",
    "elif 25 < 20:\n",
    "    print('elif worked!')\n",
    "elif 25 < 12:\n",
    "    print('elif 2 worked!')\n",
    "elif 25 < 40:\n",
    "    print('elif 3 worked!')\n",
    "elif 25 < 50:\n",
    "    print('elif 4 worked!')\n",
    "else:\n",
    "    print('It did not work...')"
   ]
  },
  {
   "cell_type": "code",
   "execution_count": 482,
   "id": "ecd4862b-a1f1-4b3b-a4f3-168dc63ea8b2",
   "metadata": {},
   "outputs": [
    {
     "name": "stdout",
     "output_type": "stream",
     "text": [
      "It did not work...\n"
     ]
    }
   ],
   "source": [
    "# in one line\n",
    "\n",
    "print('It worked!') if 10>30 else print('It did not work...')"
   ]
  },
  {
   "cell_type": "code",
   "execution_count": 490,
   "id": "30caf258-736f-40a2-a829-1dd66c507ef1",
   "metadata": {},
   "outputs": [
    {
     "name": "stdout",
     "output_type": "stream",
     "text": [
      "It worked!\n",
      "This nested if statement worked!\n"
     ]
    }
   ],
   "source": [
    "# nested if statement\n",
    "\n",
    "if (25 < 10) or (1 < 3):\n",
    "    print('It worked!')\n",
    "    if 10 > 5:\n",
    "        print('This nested if statement worked!')\n",
    "elif 25 < 20:\n",
    "    print('elif worked!')\n",
    "elif 25 < 12:\n",
    "    print('elif 2 worked!')\n",
    "elif 25 < 40:\n",
    "    print('elif 3 worked!')\n",
    "elif 25 < 50:\n",
    "    print('elif 4 worked!')\n",
    "else:\n",
    "    print('It did not work...')"
   ]
  },
  {
   "cell_type": "markdown",
   "id": "2062af68-20ea-4054-a0f4-5a4871377b3f",
   "metadata": {
    "jp-MarkdownHeadingCollapsed": true
   },
   "source": [
    "# For Loops"
   ]
  },
  {
   "cell_type": "code",
   "execution_count": 494,
   "id": "2d43a4db-ab38-4d59-a9ab-40bca1b0fbee",
   "metadata": {},
   "outputs": [],
   "source": [
    "integers = [1,2,3,4,5]"
   ]
  },
  {
   "cell_type": "code",
   "execution_count": 496,
   "id": "ec67ab44-0fbf-45cc-97c1-a44fd410c326",
   "metadata": {},
   "outputs": [
    {
     "name": "stdout",
     "output_type": "stream",
     "text": [
      "1\n",
      "2\n",
      "3\n",
      "4\n",
      "5\n"
     ]
    }
   ],
   "source": [
    "for number in integers:\n",
    "    print(number)"
   ]
  },
  {
   "cell_type": "code",
   "execution_count": 504,
   "id": "4ab6bae8-cece-4ae1-b1ea-2c6919b2a706",
   "metadata": {},
   "outputs": [
    {
     "name": "stdout",
     "output_type": "stream",
     "text": [
      "yep!\n",
      "yep!\n",
      "yep!\n",
      "yep!\n",
      "yep!\n"
     ]
    }
   ],
   "source": [
    "# not really using the numbers within the list, but using them as counters\n",
    "\n",
    "for number in integers:\n",
    "    print('yep!')"
   ]
  },
  {
   "cell_type": "code",
   "execution_count": 506,
   "id": "acc05a8d-5e0a-443a-a186-3f17b9cd3d22",
   "metadata": {},
   "outputs": [
    {
     "name": "stdout",
     "output_type": "stream",
     "text": [
      "2\n",
      "4\n",
      "6\n",
      "8\n",
      "10\n"
     ]
    }
   ],
   "source": [
    "for Jelly in integers:\n",
    "    print(Jelly + Jelly)"
   ]
  },
  {
   "cell_type": "code",
   "execution_count": 508,
   "id": "b22b8bf8-aa1f-4706-9817-950b5126a4e3",
   "metadata": {},
   "outputs": [],
   "source": [
    "ice_cream_dict = {'name': 'Alex Freberg', 'weekly intake': 5, 'favorite ice creams':['MCC','Chocolate']}"
   ]
  },
  {
   "cell_type": "code",
   "execution_count": 514,
   "id": "940f8dcb-0537-4959-b3d0-4fd6177b3ff9",
   "metadata": {},
   "outputs": [
    {
     "name": "stdout",
     "output_type": "stream",
     "text": [
      "Alex Freberg\n",
      "5\n",
      "['MCC', 'Chocolate']\n"
     ]
    }
   ],
   "source": [
    "# specify to print 'values'\n",
    "\n",
    "for cream in ice_cream_dict.values():\n",
    "    print(cream)"
   ]
  },
  {
   "cell_type": "code",
   "execution_count": 520,
   "id": "d935a990-701c-44af-9e4b-d1fff03fb8bd",
   "metadata": {},
   "outputs": [
    {
     "name": "stdout",
     "output_type": "stream",
     "text": [
      "name -> Alex Freberg\n",
      "weekly intake -> 5\n",
      "favorite ice creams -> ['MCC', 'Chocolate']\n"
     ]
    }
   ],
   "source": [
    "# for both, use items\n",
    "\n",
    "for key, value in ice_cream_dict.items():\n",
    "    print(key, '->', value)"
   ]
  },
  {
   "cell_type": "markdown",
   "id": "4e7f256f-39db-4e16-87a5-82fc0a511d8f",
   "metadata": {
    "jp-MarkdownHeadingCollapsed": true
   },
   "source": [
    "#### Nested For Loops"
   ]
  },
  {
   "cell_type": "code",
   "execution_count": 523,
   "id": "9fda20a2-60d8-4977-9d6d-79ad5ca417c6",
   "metadata": {},
   "outputs": [],
   "source": [
    "flavors = ['Vanilla', 'Chocolate', 'Cookie Dough']\n",
    "toppings = ['Hot Fudge', 'Oreos', 'Marshmallows']"
   ]
  },
  {
   "cell_type": "code",
   "execution_count": 525,
   "id": "ebf6afdb-8cc7-4f00-9641-b1796597cf57",
   "metadata": {},
   "outputs": [
    {
     "name": "stdout",
     "output_type": "stream",
     "text": [
      "Vanilla topped with Hot Fudge\n",
      "Vanilla topped with Oreos\n",
      "Vanilla topped with Marshmallows\n",
      "Chocolate topped with Hot Fudge\n",
      "Chocolate topped with Oreos\n",
      "Chocolate topped with Marshmallows\n",
      "Cookie Dough topped with Hot Fudge\n",
      "Cookie Dough topped with Oreos\n",
      "Cookie Dough topped with Marshmallows\n"
     ]
    }
   ],
   "source": [
    "for one in flavors:\n",
    "    for two in toppings:\n",
    "        print(one, 'topped with', two)"
   ]
  },
  {
   "cell_type": "markdown",
   "id": "10bd1731-5729-4195-a190-16fb6b983168",
   "metadata": {
    "jp-MarkdownHeadingCollapsed": true
   },
   "source": [
    "# While Loops"
   ]
  },
  {
   "cell_type": "code",
   "execution_count": 530,
   "id": "9e0b69c2-5e4e-4cd4-aebf-adb3c7b45daa",
   "metadata": {},
   "outputs": [
    {
     "name": "stdout",
     "output_type": "stream",
     "text": [
      "0\n",
      "1\n",
      "2\n",
      "3\n",
      "4\n"
     ]
    }
   ],
   "source": [
    "number = 0\n",
    "\n",
    "while number < 5:\n",
    "    print(number)\n",
    "    number = number + 1"
   ]
  },
  {
   "cell_type": "code",
   "execution_count": 534,
   "id": "5988fb5a-80f2-4a2a-b687-0d14d2bd8b03",
   "metadata": {},
   "outputs": [
    {
     "name": "stdout",
     "output_type": "stream",
     "text": [
      "0\n",
      "1\n",
      "2\n",
      "3\n"
     ]
    }
   ],
   "source": [
    "# break statement\n",
    "\n",
    "number = 0\n",
    "\n",
    "while number < 5:\n",
    "    print(number)\n",
    "    if number == 3:\n",
    "        break\n",
    "    number = number + 1"
   ]
  },
  {
   "cell_type": "code",
   "execution_count": 554,
   "id": "c834ea7c-963b-482e-84d9-a8dc44f2cccd",
   "metadata": {},
   "outputs": [
    {
     "name": "stdout",
     "output_type": "stream",
     "text": [
      "0\n",
      "1\n",
      "2\n",
      "3\n",
      "4\n",
      "No longer < 5\n"
     ]
    }
   ],
   "source": [
    "# combine 'else', will run after the first statement\n",
    "\n",
    "number = 0\n",
    "\n",
    "while number < 5:\n",
    "    print(number)\n",
    "    if number == 6:\n",
    "        break\n",
    "    number = number + 1\n",
    "else:\n",
    "    print('No longer < 5')"
   ]
  },
  {
   "cell_type": "code",
   "execution_count": 546,
   "id": "2ff64405-d130-4452-b1b4-9ab80053ab18",
   "metadata": {},
   "outputs": [
    {
     "name": "stdout",
     "output_type": "stream",
     "text": [
      "0\n",
      "1\n",
      "2\n",
      "3\n",
      "4\n",
      "No longer < 5\n"
     ]
    }
   ],
   "source": [
    "number = 0\n",
    "\n",
    "while number < 5:\n",
    "    print(number)\n",
    "    number = number + 1\n",
    "else:\n",
    "    print('No longer < 5')"
   ]
  },
  {
   "cell_type": "code",
   "execution_count": 552,
   "id": "44006ee6-da0a-4a89-9fee-e626e95d0bb8",
   "metadata": {},
   "outputs": [
    {
     "name": "stdout",
     "output_type": "stream",
     "text": [
      "0\n",
      "1\n",
      "2\n",
      "3\n"
     ]
    }
   ],
   "source": [
    "# if it is already 'break', then the 'else' will not run\n",
    "\n",
    "number = 0\n",
    "\n",
    "while number < 5:\n",
    "    print(number)\n",
    "    if number == 3:\n",
    "        break\n",
    "    number = number + 1\n",
    "else:\n",
    "    print('No longer < 5')"
   ]
  },
  {
   "cell_type": "code",
   "execution_count": 562,
   "id": "67478bd8-e5bb-4915-be60-44fd014bcdf9",
   "metadata": {},
   "outputs": [
    {
     "name": "stdout",
     "output_type": "stream",
     "text": [
      "1\n",
      "2\n",
      "4\n",
      "5\n",
      "No longer < 5\n"
     ]
    }
   ],
   "source": [
    "# 'continue', did not execute the statement below\n",
    "\n",
    "number = 0\n",
    "\n",
    "while number < 5:\n",
    "    number = number + 1\n",
    "    if number == 3:\n",
    "        continue\n",
    "    print(number)\n",
    "else:\n",
    "    print('No longer < 5')"
   ]
  },
  {
   "cell_type": "markdown",
   "id": "05971bec-8ec1-4906-8b79-14a60ad02808",
   "metadata": {
    "jp-MarkdownHeadingCollapsed": true
   },
   "source": [
    "# Functions "
   ]
  },
  {
   "cell_type": "code",
   "execution_count": 565,
   "id": "1ff6c1b2-b09d-4818-b8ad-016f0724dece",
   "metadata": {},
   "outputs": [
    {
     "name": "stdout",
     "output_type": "stream",
     "text": [
      "My First Function\n"
     ]
    }
   ],
   "source": [
    "# Function and Body, define function first\n",
    "\n",
    "def function():\n",
    "    print('My First Function')\n",
    "\n",
    "# Function Call\n",
    "\n",
    "function()"
   ]
  },
  {
   "cell_type": "code",
   "execution_count": 569,
   "id": "ab2ff350-4b84-408d-8427-b52192bf9e90",
   "metadata": {},
   "outputs": [],
   "source": [
    "def first_func():\n",
    "    print('We did it!')"
   ]
  },
  {
   "cell_type": "code",
   "execution_count": 571,
   "id": "39608bf9-743e-4d6f-a78e-06f5787f49a3",
   "metadata": {},
   "outputs": [
    {
     "name": "stdout",
     "output_type": "stream",
     "text": [
      "We did it!\n"
     ]
    }
   ],
   "source": [
    "first_func()"
   ]
  },
  {
   "cell_type": "code",
   "execution_count": 589,
   "id": "6fada0ab-fa0e-4526-827e-8e9ebf3eb657",
   "metadata": {},
   "outputs": [],
   "source": [
    "# ** power of number\n",
    "\n",
    "def number_squared(number):\n",
    "    print(number**2)    "
   ]
  },
  {
   "cell_type": "code",
   "execution_count": 591,
   "id": "d35b7179-746d-4007-b745-5acf77c26db1",
   "metadata": {},
   "outputs": [
    {
     "name": "stdout",
     "output_type": "stream",
     "text": [
      "25\n"
     ]
    }
   ],
   "source": [
    "number_squared(5)"
   ]
  },
  {
   "cell_type": "code",
   "execution_count": 593,
   "id": "c5e9a327-6fa1-488f-bfc8-dc390afb01cf",
   "metadata": {},
   "outputs": [],
   "source": [
    "def number_squared_cust(number, power):\n",
    "    print(number**power)  "
   ]
  },
  {
   "cell_type": "code",
   "execution_count": 595,
   "id": "1a992c67-e90f-4c67-89a4-52990bd8874a",
   "metadata": {},
   "outputs": [
    {
     "name": "stdout",
     "output_type": "stream",
     "text": [
      "125\n"
     ]
    }
   ],
   "source": [
    "number_squared_cust(5, 3)"
   ]
  },
  {
   "cell_type": "code",
   "execution_count": 603,
   "id": "e3db7fda-e25d-4d60-bd24-b97603fce866",
   "metadata": {},
   "outputs": [],
   "source": [
    "# arbitrary arguments (do not have to define how many arguments first)\n",
    "# [0] the first number, [1] the second number\n",
    "\n",
    "def number_args(*args):\n",
    "    print(args[0]*args[1])"
   ]
  },
  {
   "cell_type": "code",
   "execution_count": 607,
   "id": "f8783de5-516f-4ff1-8bd5-5bda65ca79af",
   "metadata": {},
   "outputs": [
    {
     "name": "stdout",
     "output_type": "stream",
     "text": [
      "30\n"
     ]
    }
   ],
   "source": [
    "# 5*6\n",
    "\n",
    "number_args(5,6,1,2,8)"
   ]
  },
  {
   "cell_type": "code",
   "execution_count": 615,
   "id": "9717e2ba-868b-4ea3-a4fe-eafb1f65ce0c",
   "metadata": {},
   "outputs": [],
   "source": [
    "# can also:\n",
    "\n",
    "args_tuple = (5,6,1,2,8)\n",
    "\n",
    "def number_args(*args):\n",
    "    print(args[0]*args[1])"
   ]
  },
  {
   "cell_type": "code",
   "execution_count": 611,
   "id": "dd2aaa9c-face-4c1e-9445-ec7efa758616",
   "metadata": {},
   "outputs": [
    {
     "ename": "IndexError",
     "evalue": "tuple index out of range",
     "output_type": "error",
     "traceback": [
      "\u001b[1;31m---------------------------------------------------------------------------\u001b[0m",
      "\u001b[1;31mIndexError\u001b[0m                                Traceback (most recent call last)",
      "Cell \u001b[1;32mIn[611], line 1\u001b[0m\n\u001b[1;32m----> 1\u001b[0m number_args(args_tuple)\n",
      "Cell \u001b[1;32mIn[609], line 4\u001b[0m, in \u001b[0;36mnumber_args\u001b[1;34m(*args)\u001b[0m\n\u001b[0;32m      3\u001b[0m \u001b[38;5;28;01mdef\u001b[39;00m \u001b[38;5;21mnumber_args\u001b[39m(\u001b[38;5;241m*\u001b[39margs):\n\u001b[1;32m----> 4\u001b[0m     \u001b[38;5;28mprint\u001b[39m(args[\u001b[38;5;241m0\u001b[39m]\u001b[38;5;241m*\u001b[39margs[\u001b[38;5;241m1\u001b[39m])\n",
      "\u001b[1;31mIndexError\u001b[0m: tuple index out of range"
     ]
    }
   ],
   "source": [
    "number_args(args_tuple)"
   ]
  },
  {
   "cell_type": "code",
   "execution_count": 613,
   "id": "26c8f7a1-84f7-4bc9-b5ee-2311559a6251",
   "metadata": {},
   "outputs": [
    {
     "name": "stdout",
     "output_type": "stream",
     "text": [
      "30\n"
     ]
    }
   ],
   "source": [
    "# remember the *\n",
    "\n",
    "number_args(*args_tuple)"
   ]
  },
  {
   "cell_type": "markdown",
   "id": "8dfd5517-eadf-4741-bdf8-eec3b6ff6b60",
   "metadata": {
    "jp-MarkdownHeadingCollapsed": true
   },
   "source": [
    "### keyword arguments"
   ]
  },
  {
   "cell_type": "code",
   "execution_count": 628,
   "id": "087fd9e9-6d6f-4c1f-ba4c-0ea0022d759a",
   "metadata": {},
   "outputs": [],
   "source": [
    "# more control, don't have to be in the specific position\n",
    "\n",
    "def number_squared_cust(number, power):\n",
    "    print(number**power)  "
   ]
  },
  {
   "cell_type": "code",
   "execution_count": 626,
   "id": "f9d75b6b-8722-472a-959c-e4a18f895b52",
   "metadata": {},
   "outputs": [
    {
     "name": "stdout",
     "output_type": "stream",
     "text": [
      "243\n"
     ]
    }
   ],
   "source": [
    "number_squared_cust(power = 5, number = 3)"
   ]
  },
  {
   "cell_type": "markdown",
   "id": "d43918d7-9473-4a7f-a4ec-0275e0a2fff4",
   "metadata": {
    "jp-MarkdownHeadingCollapsed": true
   },
   "source": [
    "### arbitary keyword arguments"
   ]
  },
  {
   "cell_type": "code",
   "execution_count": 668,
   "id": "721877b4-319a-45fd-9c52-126348dbfa13",
   "metadata": {},
   "outputs": [],
   "source": [
    "def number_kwarg(**number):\n",
    "    print('My number is: ' + number['integer'] + 'My other number: '+ number['integer2'])"
   ]
  },
  {
   "cell_type": "code",
   "execution_count": 670,
   "id": "0239f482-fbf5-48d6-b886-3d570c2a0da6",
   "metadata": {},
   "outputs": [
    {
     "name": "stdout",
     "output_type": "stream",
     "text": [
      "My number is: 2309My other number: 349\n"
     ]
    }
   ],
   "source": [
    "number_kwarg(integer = '2309', integer2 = '349')"
   ]
  },
  {
   "cell_type": "markdown",
   "id": "e52a7a06-272b-43a5-b5ec-ad4d4cb06236",
   "metadata": {
    "jp-MarkdownHeadingCollapsed": true
   },
   "source": [
    "# Converting Data Types "
   ]
  },
  {
   "cell_type": "code",
   "execution_count": 662,
   "id": "438b415d-460d-410d-8caa-ab5444478c5c",
   "metadata": {},
   "outputs": [
    {
     "data": {
      "text/plain": [
       "int"
      ]
     },
     "execution_count": 662,
     "metadata": {},
     "output_type": "execute_result"
    }
   ],
   "source": [
    "num_int = 7\n",
    "\n",
    "type(num_int)"
   ]
  },
  {
   "cell_type": "code",
   "execution_count": 664,
   "id": "17d46a91-c57c-4423-a21a-ab8772400001",
   "metadata": {},
   "outputs": [
    {
     "data": {
      "text/plain": [
       "str"
      ]
     },
     "execution_count": 664,
     "metadata": {},
     "output_type": "execute_result"
    }
   ],
   "source": [
    "num_str = '7'\n",
    "\n",
    "type(num_str)"
   ]
  },
  {
   "cell_type": "code",
   "execution_count": 666,
   "id": "1fce3015-72fa-4fc9-9b08-813451f27f88",
   "metadata": {},
   "outputs": [
    {
     "ename": "TypeError",
     "evalue": "unsupported operand type(s) for +: 'int' and 'str'",
     "output_type": "error",
     "traceback": [
      "\u001b[1;31m---------------------------------------------------------------------------\u001b[0m",
      "\u001b[1;31mTypeError\u001b[0m                                 Traceback (most recent call last)",
      "Cell \u001b[1;32mIn[666], line 1\u001b[0m\n\u001b[1;32m----> 1\u001b[0m num_sum \u001b[38;5;241m=\u001b[39m num_int \u001b[38;5;241m+\u001b[39m num_str\n",
      "\u001b[1;31mTypeError\u001b[0m: unsupported operand type(s) for +: 'int' and 'str'"
     ]
    }
   ],
   "source": [
    "# cannot add both an integer and a string\n",
    "\n",
    "num_sum = num_int + num_str"
   ]
  },
  {
   "cell_type": "code",
   "execution_count": 672,
   "id": "922bf6f5-a12e-40fb-89b3-0db594371ce4",
   "metadata": {},
   "outputs": [
    {
     "data": {
      "text/plain": [
       "int"
      ]
     },
     "execution_count": 672,
     "metadata": {},
     "output_type": "execute_result"
    }
   ],
   "source": [
    "num_str_conv = int(num_str)\n",
    "\n",
    "type(num_str_conv)"
   ]
  },
  {
   "cell_type": "code",
   "execution_count": 676,
   "id": "586e241e-3377-4a73-9c73-ae3fb5597acf",
   "metadata": {},
   "outputs": [
    {
     "name": "stdout",
     "output_type": "stream",
     "text": [
      "14\n"
     ]
    }
   ],
   "source": [
    "num_sum = num_int + num_str_conv\n",
    "\n",
    "print(num_sum)"
   ]
  },
  {
   "cell_type": "code",
   "execution_count": 680,
   "id": "489131e4-fca0-41c6-9ee6-e9de80e18e60",
   "metadata": {},
   "outputs": [
    {
     "data": {
      "text/plain": [
       "int"
      ]
     },
     "execution_count": 680,
     "metadata": {},
     "output_type": "execute_result"
    }
   ],
   "source": [
    "# automatically apply the data type\n",
    "\n",
    "type(num_sum)"
   ]
  },
  {
   "cell_type": "code",
   "execution_count": 682,
   "id": "a836f291-0480-4325-b185-35a393264d90",
   "metadata": {},
   "outputs": [
    {
     "data": {
      "text/plain": [
       "list"
      ]
     },
     "execution_count": 682,
     "metadata": {},
     "output_type": "execute_result"
    }
   ],
   "source": [
    "# converting list\n",
    "\n",
    "list_type = [1,2,3]\n",
    "\n",
    "type(list_type)"
   ]
  },
  {
   "cell_type": "code",
   "execution_count": 686,
   "id": "f1ee42d0-4f6a-4cec-aa22-1127a7706571",
   "metadata": {},
   "outputs": [
    {
     "data": {
      "text/plain": [
       "list"
      ]
     },
     "execution_count": 686,
     "metadata": {},
     "output_type": "execute_result"
    }
   ],
   "source": [
    "type(list_type)"
   ]
  },
  {
   "cell_type": "code",
   "execution_count": 690,
   "id": "5b864a1b-7936-4b27-b851-9ec2e6d592b5",
   "metadata": {},
   "outputs": [
    {
     "data": {
      "text/plain": [
       "(1, 2, 3)"
      ]
     },
     "execution_count": 690,
     "metadata": {},
     "output_type": "execute_result"
    }
   ],
   "source": [
    "# converting list[] to tuple()\n",
    "\n",
    "tuple(list_type)"
   ]
  },
  {
   "cell_type": "code",
   "execution_count": 692,
   "id": "fd71641e-b610-4dc5-8684-bf95c058d081",
   "metadata": {},
   "outputs": [
    {
     "data": {
      "text/plain": [
       "tuple"
      ]
     },
     "execution_count": 692,
     "metadata": {},
     "output_type": "execute_result"
    }
   ],
   "source": [
    "type(tuple(list_type))"
   ]
  },
  {
   "cell_type": "code",
   "execution_count": null,
   "id": "9c94d8f3-2f49-43d0-b073-781ad2bd386d",
   "metadata": {},
   "outputs": [],
   "source": [
    "list_type = [1,2,3,2,1,2,2,3,3,2,1,3]"
   ]
  },
  {
   "cell_type": "code",
   "execution_count": 696,
   "id": "c740cea2-3773-422e-a7f0-d5b9effc505d",
   "metadata": {},
   "outputs": [
    {
     "data": {
      "text/plain": [
       "{1, 2, 3}"
      ]
     },
     "execution_count": 696,
     "metadata": {},
     "output_type": "execute_result"
    }
   ],
   "source": [
    "# converting list[] to set{}\n",
    "\n",
    "set(list_type)"
   ]
  },
  {
   "cell_type": "code",
   "execution_count": 698,
   "id": "5e733626-0814-4b1b-b495-7fb6369ab2d7",
   "metadata": {},
   "outputs": [
    {
     "data": {
      "text/plain": [
       "set"
      ]
     },
     "execution_count": 698,
     "metadata": {},
     "output_type": "execute_result"
    }
   ],
   "source": [
    "type(set(list_type))"
   ]
  },
  {
   "cell_type": "code",
   "execution_count": 700,
   "id": "5a2d9fea-1080-4be9-882b-e5baaf9e91cf",
   "metadata": {},
   "outputs": [
    {
     "data": {
      "text/plain": [
       "dict"
      ]
     },
     "execution_count": 700,
     "metadata": {},
     "output_type": "execute_result"
    }
   ],
   "source": [
    "dict_type = {'name': 'Alex', 'Age': 28, 'hair': 'N/A'}\n",
    "\n",
    "type(dict_type)"
   ]
  },
  {
   "cell_type": "code",
   "execution_count": 702,
   "id": "03458c9a-38fb-4db3-95a7-44801ef240c3",
   "metadata": {},
   "outputs": [
    {
     "data": {
      "text/plain": [
       "dict_items([('name', 'Alex'), ('Age', 28), ('hair', 'N/A')])"
      ]
     },
     "execution_count": 702,
     "metadata": {},
     "output_type": "execute_result"
    }
   ],
   "source": [
    "dict_type.items()"
   ]
  },
  {
   "cell_type": "code",
   "execution_count": 706,
   "id": "913ca3f9-8835-45d0-b9bf-5b28232d511a",
   "metadata": {},
   "outputs": [
    {
     "data": {
      "text/plain": [
       "dict_values(['Alex', 28, 'N/A'])"
      ]
     },
     "execution_count": 706,
     "metadata": {},
     "output_type": "execute_result"
    }
   ],
   "source": [
    "dict_type.values()"
   ]
  },
  {
   "cell_type": "code",
   "execution_count": 708,
   "id": "7b10ff71-f549-410d-b267-134dccf5bbf1",
   "metadata": {},
   "outputs": [
    {
     "data": {
      "text/plain": [
       "dict_keys(['name', 'Age', 'hair'])"
      ]
     },
     "execution_count": 708,
     "metadata": {},
     "output_type": "execute_result"
    }
   ],
   "source": [
    "dict_type.keys()"
   ]
  },
  {
   "cell_type": "code",
   "execution_count": 714,
   "id": "64730a64-8fd6-4ed2-bd58-b8b80237535c",
   "metadata": {},
   "outputs": [
    {
     "data": {
      "text/plain": [
       "['name', 'Age', 'hair']"
      ]
     },
     "execution_count": 714,
     "metadata": {},
     "output_type": "execute_result"
    }
   ],
   "source": [
    "# converting dictionary to list\n",
    "\n",
    "list(dict_type.keys())"
   ]
  },
  {
   "cell_type": "code",
   "execution_count": 712,
   "id": "fa8a16d1-9295-4de5-9bdb-70bc6c11b6a0",
   "metadata": {},
   "outputs": [
    {
     "data": {
      "text/plain": [
       "list"
      ]
     },
     "execution_count": 712,
     "metadata": {},
     "output_type": "execute_result"
    }
   ],
   "source": [
    "type(list(dict_type.keys()))"
   ]
  },
  {
   "cell_type": "code",
   "execution_count": 716,
   "id": "8f9f5136-f227-4078-889d-1a56dc3be066",
   "metadata": {},
   "outputs": [
    {
     "data": {
      "text/plain": [
       "['I', ' ', 'l', 'i', 'k', 'e', ' ', 't', 'o', ' ', 'e', 'a', 't']"
      ]
     },
     "execution_count": 716,
     "metadata": {},
     "output_type": "execute_result"
    }
   ],
   "source": [
    "long_str = 'I like to eat'\n",
    "\n",
    "list(long_str)"
   ]
  },
  {
   "cell_type": "code",
   "execution_count": null,
   "id": "cb02ace0-e232-46c6-b123-bde630be6c4a",
   "metadata": {},
   "outputs": [],
   "source": []
  },
  {
   "cell_type": "code",
   "execution_count": null,
   "id": "92e893f2-52c5-4eb8-bcc1-b54c2a1ac57f",
   "metadata": {},
   "outputs": [],
   "source": []
  },
  {
   "cell_type": "code",
   "execution_count": null,
   "id": "f80a03be-4c48-4bc2-a916-f749b97a9a77",
   "metadata": {},
   "outputs": [],
   "source": []
  },
  {
   "cell_type": "code",
   "execution_count": null,
   "id": "6c1f0976-a7e2-4f20-9fd3-1dcfc690bd20",
   "metadata": {},
   "outputs": [],
   "source": []
  },
  {
   "cell_type": "code",
   "execution_count": null,
   "id": "9bd5e4c2-efad-404f-a5f0-e44ac81684f9",
   "metadata": {},
   "outputs": [],
   "source": []
  }
 ],
 "metadata": {
  "kernelspec": {
   "display_name": "Python 3 (ipykernel)",
   "language": "python",
   "name": "python3"
  },
  "language_info": {
   "codemirror_mode": {
    "name": "ipython",
    "version": 3
   },
   "file_extension": ".py",
   "mimetype": "text/x-python",
   "name": "python",
   "nbconvert_exporter": "python",
   "pygments_lexer": "ipython3",
   "version": "3.11.7"
  }
 },
 "nbformat": 4,
 "nbformat_minor": 5
}
